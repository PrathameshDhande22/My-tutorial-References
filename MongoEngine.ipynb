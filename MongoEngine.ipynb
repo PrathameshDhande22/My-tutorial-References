{
 "cells": [
  {
   "cell_type": "markdown",
   "metadata": {},
   "source": [
    "# MongoEngine Tutorial\n",
    "\n",
    "Installing the Mongoengine library"
   ]
  },
  {
   "cell_type": "code",
   "execution_count": 1,
   "metadata": {},
   "outputs": [
    {
     "name": "stdout",
     "output_type": "stream",
     "text": [
      "Defaulting to user installation because normal site-packages is not writeable\n",
      "Collecting mongoengine\n",
      "  Downloading mongoengine-0.27.0-py3-none-any.whl (110 kB)\n",
      "                                              0.0/110.6 kB ? eta -:--:--\n",
      "     ---                                      10.2/110.6 kB ? eta -:--:--\n",
      "     ---                                      10.2/110.6 kB ? eta -:--:--\n",
      "     --------------------                  61.4/110.6 kB 544.7 kB/s eta 0:00:01\n",
      "     ---------------------------           81.9/110.6 kB 573.4 kB/s eta 0:00:01\n",
      "     ------------------------------------ 110.6/110.6 kB 533.8 kB/s eta 0:00:00\n",
      "Collecting pymongo<5.0,>=3.4 (from mongoengine)\n",
      "  Downloading pymongo-4.4.0-cp310-cp310-win_amd64.whl (453 kB)\n",
      "                                              0.0/453.6 kB ? eta -:--:--\n",
      "     --                                    30.7/453.6 kB 660.6 kB/s eta 0:00:01\n",
      "     --                                    30.7/453.6 kB 660.6 kB/s eta 0:00:01\n",
      "     ------                                81.9/453.6 kB 573.4 kB/s eta 0:00:01\n",
      "     -------                               92.2/453.6 kB 585.1 kB/s eta 0:00:01\n",
      "     ---------                            122.9/453.6 kB 516.7 kB/s eta 0:00:01\n",
      "     -------------                        163.8/453.6 kB 579.6 kB/s eta 0:00:01\n",
      "     -------------                        163.8/453.6 kB 579.6 kB/s eta 0:00:01\n",
      "     -------------                        174.1/453.6 kB 456.4 kB/s eta 0:00:01\n",
      "     ----------------                     204.8/453.6 kB 498.9 kB/s eta 0:00:01\n",
      "     ----------------                     204.8/453.6 kB 498.9 kB/s eta 0:00:01\n",
      "     ---------------------                276.5/453.6 kB 532.5 kB/s eta 0:00:01\n",
      "     ---------------------                276.5/453.6 kB 532.5 kB/s eta 0:00:01\n",
      "     --------------------------           327.7/453.6 kB 535.3 kB/s eta 0:00:01\n",
      "     --------------------------           337.9/453.6 kB 524.3 kB/s eta 0:00:01\n",
      "     ----------------------------         358.4/453.6 kB 518.9 kB/s eta 0:00:01\n",
      "     --------------------------------     409.6/453.6 kB 544.1 kB/s eta 0:00:01\n",
      "     ---------------------------------    419.8/453.6 kB 524.5 kB/s eta 0:00:01\n",
      "     -----------------------------------  450.6/453.6 kB 542.3 kB/s eta 0:00:01\n",
      "     ------------------------------------ 453.6/453.6 kB 525.9 kB/s eta 0:00:00\n",
      "Collecting dnspython<3.0.0,>=1.16.0 (from pymongo<5.0,>=3.4->mongoengine)\n",
      "  Downloading dnspython-2.3.0-py3-none-any.whl (283 kB)\n",
      "                                              0.0/283.7 kB ? eta -:--:--\n",
      "     -                                        10.2/283.7 kB ? eta -:--:--\n",
      "     -----                                 41.0/283.7 kB 991.0 kB/s eta 0:00:01\n",
      "     --------                              61.4/283.7 kB 812.7 kB/s eta 0:00:01\n",
      "     ------------                          92.2/283.7 kB 744.7 kB/s eta 0:00:01\n",
      "     ------------                          92.2/283.7 kB 744.7 kB/s eta 0:00:01\n",
      "     --------------                       112.6/283.7 kB 435.7 kB/s eta 0:00:01\n",
      "     ------------------------             194.6/283.7 kB 655.9 kB/s eta 0:00:01\n",
      "     ------------------------             194.6/283.7 kB 655.9 kB/s eta 0:00:01\n",
      "     ------------------------             194.6/283.7 kB 655.9 kB/s eta 0:00:01\n",
      "     ------------------------             194.6/283.7 kB 655.9 kB/s eta 0:00:01\n",
      "     ----------------------------         225.3/283.7 kB 491.0 kB/s eta 0:00:01\n",
      "     --------------------------------     256.0/283.7 kB 476.3 kB/s eta 0:00:01\n",
      "     -----------------------------------  276.5/283.7 kB 501.4 kB/s eta 0:00:01\n",
      "     ------------------------------------ 283.7/283.7 kB 473.1 kB/s eta 0:00:00\n",
      "Installing collected packages: dnspython, pymongo, mongoengine\n",
      "Successfully installed dnspython-2.3.0 mongoengine-0.27.0 pymongo-4.4.0\n",
      "Note: you may need to restart the kernel to use updated packages.\n"
     ]
    }
   ],
   "source": [
    "pip install mongoengine"
   ]
  },
  {
   "cell_type": "markdown",
   "metadata": {},
   "source": [
    "Importing the library"
   ]
  },
  {
   "cell_type": "code",
   "execution_count": 2,
   "metadata": {},
   "outputs": [],
   "source": [
    "from mongoengine import *"
   ]
  },
  {
   "cell_type": "markdown",
   "metadata": {},
   "source": [
    "Connecting the Mongodb with the String uri"
   ]
  },
  {
   "cell_type": "code",
   "execution_count": 5,
   "metadata": {},
   "outputs": [
    {
     "data": {
      "text/plain": [
       "MongoClient(host=['localhost:27017'], document_class=dict, tz_aware=False, connect=True, read_preference=Primary(), uuidrepresentation=3)"
      ]
     },
     "execution_count": 5,
     "metadata": {},
     "output_type": "execute_result"
    }
   ],
   "source": [
    "connect(host=\"mongodb://localhost:27017/monogtutorial\")"
   ]
  },
  {
   "cell_type": "markdown",
   "metadata": {},
   "source": [
    "Defining the Documents"
   ]
  },
  {
   "cell_type": "code",
   "execution_count": 6,
   "metadata": {},
   "outputs": [],
   "source": [
    "class Page(Document):\n",
    "    pageno=IntField()\n",
    "    title=StringField(max_length=20)\n",
    "    "
   ]
  },
  {
   "cell_type": "markdown",
   "metadata": {},
   "source": [
    "Adding the data to it and saving"
   ]
  },
  {
   "cell_type": "code",
   "execution_count": 8,
   "metadata": {},
   "outputs": [],
   "source": [
    "data=Page(pageno=12,title=\"Chapter 1\").save()"
   ]
  },
  {
   "cell_type": "markdown",
   "metadata": {},
   "source": [
    "Get the saved data in the json format"
   ]
  },
  {
   "cell_type": "code",
   "execution_count": 12,
   "metadata": {},
   "outputs": [
    {
     "data": {
      "text/plain": [
       "'{\"_id\": {\"$oid\": \"64aad1bb6ddef883d61ffed0\"}, \"pageno\": 12, \"title\": \"Chapter 1\"}'"
      ]
     },
     "execution_count": 12,
     "metadata": {},
     "output_type": "execute_result"
    }
   ],
   "source": [
    "data.to_json()"
   ]
  },
  {
   "cell_type": "markdown",
   "metadata": {},
   "source": [
    "Get the inserted data in the Mongo or BSON Format"
   ]
  },
  {
   "cell_type": "code",
   "execution_count": 13,
   "metadata": {},
   "outputs": [
    {
     "data": {
      "text/plain": [
       "SON([('_id', ObjectId('64aad1bb6ddef883d61ffed0')), ('pageno', 12), ('title', 'Chapter 1')])"
      ]
     },
     "execution_count": 13,
     "metadata": {},
     "output_type": "execute_result"
    }
   ],
   "source": [
    "data.to_mongo()"
   ]
  },
  {
   "cell_type": "markdown",
   "metadata": {},
   "source": [
    "### Making the Documents Embedded"
   ]
  },
  {
   "cell_type": "code",
   "execution_count": 16,
   "metadata": {},
   "outputs": [],
   "source": [
    "class Books(EmbeddedDocument):\n",
    "    bookname=StringField()\n",
    "    isbn=LongField()\n",
    "    author=StringField()\n",
    "    "
   ]
  },
  {
   "cell_type": "code",
   "execution_count": 19,
   "metadata": {},
   "outputs": [],
   "source": [
    "class Hub(Document):\n",
    "    name=StringField()\n",
    "    books=EmbeddedDocumentField(Books)"
   ]
  },
  {
   "cell_type": "markdown",
   "metadata": {},
   "source": [
    "Adding the data in the Embedded Document"
   ]
  },
  {
   "cell_type": "code",
   "execution_count": 20,
   "metadata": {},
   "outputs": [],
   "source": [
    "book1=Books(bookname=\"Aswthama\",isbn=123456754,author=\"Prathamesh\")\n",
    "data1=Hub(name=\"Bookstore\",books=book1)"
   ]
  },
  {
   "cell_type": "markdown",
   "metadata": {},
   "source": [
    "Saving the data in it."
   ]
  },
  {
   "cell_type": "code",
   "execution_count": 24,
   "metadata": {},
   "outputs": [
    {
     "data": {
      "text/plain": [
       "<Hub: Hub object>"
      ]
     },
     "execution_count": 24,
     "metadata": {},
     "output_type": "execute_result"
    }
   ],
   "source": [
    "data1.save()"
   ]
  },
  {
   "cell_type": "markdown",
   "metadata": {},
   "source": [
    "### Reference Fields"
   ]
  },
  {
   "cell_type": "code",
   "execution_count": 26,
   "metadata": {},
   "outputs": [],
   "source": [
    "class User(Document):\n",
    "    name=StringField()\n",
    "    salary=IntField()\n",
    "    \n",
    "class Dept(Document):\n",
    "    name=StringField()\n",
    "    userdata=ReferenceField(User)"
   ]
  },
  {
   "cell_type": "markdown",
   "metadata": {},
   "source": [
    "Adding the data to it"
   ]
  },
  {
   "cell_type": "code",
   "execution_count": 31,
   "metadata": {},
   "outputs": [
    {
     "data": {
      "text/plain": [
       "<User: User object>"
      ]
     },
     "execution_count": 31,
     "metadata": {},
     "output_type": "execute_result"
    }
   ],
   "source": [
    "u1=User(name=\"Prathamesh\",salary=10000)\n",
    "u1.save()\n"
   ]
  },
  {
   "cell_type": "code",
   "execution_count": 32,
   "metadata": {},
   "outputs": [
    {
     "data": {
      "text/plain": [
       "<Dept: Dept object>"
      ]
     },
     "execution_count": 32,
     "metadata": {},
     "output_type": "execute_result"
    }
   ],
   "source": [
    "d1=Dept(name=\"Sales\",userdata=u1)\n",
    "d1.save()"
   ]
  },
  {
   "cell_type": "markdown",
   "metadata": {},
   "source": [
    "Deleting the Documents"
   ]
  },
  {
   "cell_type": "code",
   "execution_count": 33,
   "metadata": {},
   "outputs": [],
   "source": [
    "d1.delete()"
   ]
  },
  {
   "cell_type": "markdown",
   "metadata": {},
   "source": [
    "### Querying the Collection"
   ]
  },
  {
   "cell_type": "markdown",
   "metadata": {},
   "source": [
    "Adding the some data in the collection"
   ]
  },
  {
   "cell_type": "code",
   "execution_count": 35,
   "metadata": {},
   "outputs": [
    {
     "data": {
      "text/plain": [
       "<Page: Page object>"
      ]
     },
     "execution_count": 35,
     "metadata": {},
     "output_type": "execute_result"
    }
   ],
   "source": [
    "Page(pageno=6,title=\"chapter3\").save()"
   ]
  },
  {
   "cell_type": "code",
   "execution_count": 40,
   "metadata": {},
   "outputs": [
    {
     "name": "stdout",
     "output_type": "stream",
     "text": [
      "Introduction\n",
      "Chapter 1\n",
      "chapter2\n",
      "chapter3\n"
     ]
    }
   ],
   "source": [
    "for pg in Page.objects:\n",
    "    print(pg.title)"
   ]
  },
  {
   "cell_type": "markdown",
   "metadata": {},
   "source": [
    "Filtering the Querying"
   ]
  },
  {
   "cell_type": "code",
   "execution_count": 41,
   "metadata": {},
   "outputs": [
    {
     "name": "stdout",
     "output_type": "stream",
     "text": [
      "12\n"
     ]
    }
   ],
   "source": [
    "for pg in Page.objects(title=\"Chapter 1\"):\n",
    "    print(pg.pageno)"
   ]
  },
  {
   "cell_type": "markdown",
   "metadata": {},
   "source": [
    "Filtering the Query using Query operators\n",
    "\n",
    "key__{queryoperator}=value;"
   ]
  },
  {
   "cell_type": "code",
   "execution_count": 43,
   "metadata": {},
   "outputs": [
    {
     "name": "stdout",
     "output_type": "stream",
     "text": [
      "Chapter 1 12\n",
      "chapter3 6\n"
     ]
    }
   ],
   "source": [
    "for pg in Page.objects(pageno__gt=5):\n",
    "    print(pg.title,pg.pageno)"
   ]
  },
  {
   "cell_type": "markdown",
   "metadata": {},
   "source": [
    "Sorting the Documents"
   ]
  },
  {
   "cell_type": "code",
   "execution_count": 45,
   "metadata": {},
   "outputs": [],
   "source": [
    "def pageparser(pg:Page):\n",
    "    return {pg.pageno,pg.title}"
   ]
  },
  {
   "cell_type": "markdown",
   "metadata": {},
   "source": [
    "Sorting the Documents in increasing order"
   ]
  },
  {
   "cell_type": "code",
   "execution_count": 47,
   "metadata": {},
   "outputs": [
    {
     "name": "stdout",
     "output_type": "stream",
     "text": [
      "{1, 'Introduction'}\n",
      "{2, 'chapter2'}\n",
      "{'chapter3', 6}\n",
      "{12, 'Chapter 1'}\n"
     ]
    }
   ],
   "source": [
    "for pg in Page.objects().order_by(\"pageno\"):\n",
    "    print(pageparser(pg))"
   ]
  },
  {
   "cell_type": "markdown",
   "metadata": {},
   "source": [
    "Sorting the Documents in decreasing order"
   ]
  },
  {
   "cell_type": "code",
   "execution_count": 48,
   "metadata": {},
   "outputs": [
    {
     "name": "stdout",
     "output_type": "stream",
     "text": [
      "{12, 'Chapter 1'}\n",
      "{'chapter3', 6}\n",
      "{2, 'chapter2'}\n",
      "{1, 'Introduction'}\n"
     ]
    }
   ],
   "source": [
    "for pg in Page.objects().order_by(\"-pageno\"):\n",
    "    print(pageparser(pg))"
   ]
  },
  {
   "cell_type": "markdown",
   "metadata": {},
   "source": [
    "Limiting and skipping"
   ]
  },
  {
   "cell_type": "code",
   "execution_count": 51,
   "metadata": {},
   "outputs": [
    {
     "name": "stdout",
     "output_type": "stream",
     "text": [
      "6 chapter3\n"
     ]
    }
   ],
   "source": [
    "pgs=Page.objects[3]\n",
    "print(pgs.pageno,pgs.title)"
   ]
  },
  {
   "cell_type": "code",
   "execution_count": 54,
   "metadata": {},
   "outputs": [
    {
     "name": "stdout",
     "output_type": "stream",
     "text": [
      "{12, 'Chapter 1'}\n",
      "{2, 'chapter2'}\n"
     ]
    }
   ],
   "source": [
    "pgs=Page.objects[1:3]\n",
    "for p in pgs:\n",
    "    print(pageparser(p))"
   ]
  },
  {
   "cell_type": "markdown",
   "metadata": {},
   "source": [
    "### Updating the Document"
   ]
  },
  {
   "cell_type": "code",
   "execution_count": 56,
   "metadata": {},
   "outputs": [],
   "source": [
    "pg=Page(pageno=23,title=\"Chapter 4\")"
   ]
  },
  {
   "cell_type": "code",
   "execution_count": 58,
   "metadata": {},
   "outputs": [
    {
     "data": {
      "text/plain": [
       "<Page: Page object>"
      ]
     },
     "execution_count": 58,
     "metadata": {},
     "output_type": "execute_result"
    }
   ],
   "source": [
    "pg.save()"
   ]
  },
  {
   "cell_type": "code",
   "execution_count": 59,
   "metadata": {},
   "outputs": [],
   "source": [
    "pgs=Page.objects(pageno=23).update_one(set__pageno=14)"
   ]
  },
  {
   "cell_type": "markdown",
   "metadata": {},
   "source": [
    "### Dropping the Collection"
   ]
  },
  {
   "cell_type": "code",
   "execution_count": 60,
   "metadata": {},
   "outputs": [],
   "source": [
    "Page.drop_collection()"
   ]
  },
  {
   "cell_type": "code",
   "execution_count": 61,
   "metadata": {},
   "outputs": [],
   "source": [
    "User.drop_collection()"
   ]
  },
  {
   "cell_type": "code",
   "execution_count": 62,
   "metadata": {},
   "outputs": [],
   "source": [
    "Hub.drop_collection()"
   ]
  },
  {
   "cell_type": "code",
   "execution_count": 63,
   "metadata": {},
   "outputs": [],
   "source": [
    "Dept.drop_collection()"
   ]
  },
  {
   "cell_type": "markdown",
   "metadata": {},
   "source": [
    "## Thank You For Viewing the MongoEngine Tutorial Visit the Docs for more Fields"
   ]
  }
 ],
 "metadata": {
  "kernelspec": {
   "display_name": "Python 3",
   "language": "python",
   "name": "python3"
  },
  "language_info": {
   "codemirror_mode": {
    "name": "ipython",
    "version": 3
   },
   "file_extension": ".py",
   "mimetype": "text/x-python",
   "name": "python",
   "nbconvert_exporter": "python",
   "pygments_lexer": "ipython3",
   "version": "3.10.9"
  },
  "orig_nbformat": 4
 },
 "nbformat": 4,
 "nbformat_minor": 2
}
