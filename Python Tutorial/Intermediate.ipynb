{
 "cells": [
  {
   "attachments": {},
   "cell_type": "markdown",
   "metadata": {},
   "source": [
    "# Python Tutorial\n",
    "\n",
    "## Python Intermediate Tutorial"
   ]
  },
  {
   "attachments": {},
   "cell_type": "markdown",
   "metadata": {},
   "source": [
    "### File Input and output\n",
    "\n",
    "Consider you want to read the text file or any other file or want to create that file for such we can use the python inbuilt function"
   ]
  },
  {
   "attachments": {},
   "cell_type": "markdown",
   "metadata": {},
   "source": [
    "Creating the New file"
   ]
  },
  {
   "cell_type": "code",
   "execution_count": 1,
   "metadata": {},
   "outputs": [],
   "source": [
    "newfile=open(\"file.txt\",mode=\"w\")\n",
    "data=\"Hello my name is prathamesh Dhande\"\n",
    "newfile.write(data)\n",
    "newfile.close()"
   ]
  },
  {
   "cell_type": "markdown",
   "metadata": {},
   "source": [
    "Reading the file which we have created"
   ]
  },
  {
   "cell_type": "code",
   "execution_count": 2,
   "metadata": {},
   "outputs": [
    {
     "name": "stdout",
     "output_type": "stream",
     "text": [
      "Hello my name is prathamesh Dhande\n"
     ]
    }
   ],
   "source": [
    "readfile=open(\"file.txt\",mode=\"r\").read()\n",
    "print(readfile)"
   ]
  },
  {
   "attachments": {},
   "cell_type": "markdown",
   "metadata": {},
   "source": [
    "#### Creating the file or reading the file with context manager"
   ]
  },
  {
   "cell_type": "code",
   "execution_count": 3,
   "metadata": {},
   "outputs": [
    {
     "name": "stdout",
     "output_type": "stream",
     "text": [
      "Hello my name is prathamesh Dhande\n"
     ]
    }
   ],
   "source": [
    "with open(\"file.txt\",\"r\") as f:\n",
    "    print(f.read())"
   ]
  },
  {
   "attachments": {},
   "cell_type": "markdown",
   "metadata": {},
   "source": [
    "# Object Oriented Programming OOPS\n",
    "\n",
    "You should be familiar with oops if your comming from java,javascript,dart,c++ background language"
   ]
  },
  {
   "attachments": {},
   "cell_type": "markdown",
   "metadata": {},
   "source": [
    "creating the class with class keyword \n",
    "\n",
    "\n",
    "while creating the method inside the class the self keyword is required in the method"
   ]
  },
  {
   "cell_type": "code",
   "execution_count": 4,
   "metadata": {},
   "outputs": [],
   "source": [
    "class Animal:\n",
    "    \n",
    "    animal=\"cat\"\n",
    "    \n",
    "    def bark(self):\n",
    "        print(\"bow bow\",self.animal)\n",
    "        \n",
    "    def say(self,argument:str):\n",
    "        print(\"saying \",argument)"
   ]
  },
  {
   "attachments": {},
   "cell_type": "markdown",
   "metadata": {},
   "source": [
    "Creating the object of the class"
   ]
  },
  {
   "cell_type": "code",
   "execution_count": 5,
   "metadata": {},
   "outputs": [
    {
     "name": "stdout",
     "output_type": "stream",
     "text": [
      "bow bow cat\n",
      "saying  Prathamesh\n"
     ]
    },
    {
     "data": {
      "text/plain": [
       "'cat'"
      ]
     },
     "execution_count": 5,
     "metadata": {},
     "output_type": "execute_result"
    }
   ],
   "source": [
    "a=Animal() # creating the object\n",
    "a.bark() # calling the method of that class\n",
    "a.say(\"Prathamesh\") # calling the method with the argument\n",
    "a.animal # accessing the class attributes"
   ]
  },
  {
   "attachments": {},
   "cell_type": "markdown",
   "metadata": {},
   "source": [
    "f keyword \n",
    "\n",
    "earlier we where using format method of the string but using f keyword the works becomes easy lets see how\n",
    "\n"
   ]
  },
  {
   "cell_type": "code",
   "execution_count": 6,
   "metadata": {},
   "outputs": [
    {
     "name": "stdout",
     "output_type": "stream",
     "text": [
      "Prathamesh is saying hello to bhaskar \n"
     ]
    }
   ],
   "source": [
    "# using format method\n",
    "name=\"Prathamesh\"\n",
    "print(\"{} is saying hello to {} \".format(name,\"bhaskar\"))"
   ]
  },
  {
   "cell_type": "code",
   "execution_count": 7,
   "metadata": {},
   "outputs": [
    {
     "name": "stdout",
     "output_type": "stream",
     "text": [
      "bhaskar is saying hello to Prathamesh \n"
     ]
    }
   ],
   "source": [
    "name=\"Prathamesh\"\n",
    "print(\"{1} is saying hello to {0} \".format(name,\"bhaskar\"))"
   ]
  },
  {
   "cell_type": "code",
   "execution_count": 8,
   "metadata": {},
   "outputs": [
    {
     "name": "stdout",
     "output_type": "stream",
     "text": [
      "Prathamesh is saying hello to bhaskar\n"
     ]
    }
   ],
   "source": [
    "name=\"Prathamesh\"\n",
    "name2=\"bhaskar\"\n",
    "print(f\"{name} is saying hello to {name2}\")"
   ]
  },
  {
   "attachments": {},
   "cell_type": "markdown",
   "metadata": {},
   "source": [
    "Static method of any class\n",
    "\n",
    "The static method can be called by without creating the object of that class"
   ]
  },
  {
   "cell_type": "code",
   "execution_count": 9,
   "metadata": {},
   "outputs": [],
   "source": [
    "class Animal:\n",
    "    \n",
    "    animal=\"cat\"\n",
    "    \n",
    "    def bark(self):\n",
    "        print(\"bow bow\",self.animal)\n",
    "        \n",
    "    def say(self,argument:str):\n",
    "        print(\"saying \",argument)\n",
    "        \n",
    "    @staticmethod\n",
    "    def simple():\n",
    "        print(\"calling the static method of class Animal\")\n",
    "      \n",
    "    @staticmethod  \n",
    "    def simple2(argument=0):\n",
    "        print(f\"Calling the static method with {argument}\")"
   ]
  },
  {
   "cell_type": "code",
   "execution_count": 10,
   "metadata": {},
   "outputs": [
    {
     "name": "stdout",
     "output_type": "stream",
     "text": [
      "calling the static method of class Animal\n",
      "Calling the static method with 6\n"
     ]
    }
   ],
   "source": [
    "Animal.simple()\n",
    "Animal.simple2(6)"
   ]
  },
  {
   "attachments": {},
   "cell_type": "markdown",
   "metadata": {},
   "source": [
    "Constructor of the class\n",
    "\n",
    "creating the construtor using creating the `__init__` as the method"
   ]
  },
  {
   "cell_type": "code",
   "execution_count": 11,
   "metadata": {},
   "outputs": [],
   "source": [
    "class Animal:\n",
    "\n",
    "    def __init__(self, animal=\"cat\") -> None:\n",
    "        self.animal = animal\n",
    "\n",
    "    def bark(self):\n",
    "        print(\"bow bow\", self.animal)\n",
    "\n",
    "    def say(self, argument: str):\n",
    "        print(\"saying \", argument)\n",
    "\n",
    "    @staticmethod\n",
    "    def simple():\n",
    "        print(\"calling the static method of class Animal\")\n",
    "\n",
    "    @staticmethod\n",
    "    def simple2(argument=0):\n",
    "        print(f\"Calling the static method with {argument}\")\n"
   ]
  },
  {
   "cell_type": "code",
   "execution_count": 12,
   "metadata": {},
   "outputs": [
    {
     "name": "stdout",
     "output_type": "stream",
     "text": [
      "bow bow dog\n"
     ]
    }
   ],
   "source": [
    "a=Animal(\"dog\")\n",
    "a.bark()"
   ]
  },
  {
   "attachments": {},
   "cell_type": "markdown",
   "metadata": {},
   "source": [
    "## Inheritance"
   ]
  },
  {
   "attachments": {},
   "cell_type": "markdown",
   "metadata": {},
   "source": [
    "### Single Inheritance"
   ]
  },
  {
   "cell_type": "code",
   "execution_count": 13,
   "metadata": {},
   "outputs": [
    {
     "name": "stdout",
     "output_type": "stream",
     "text": [
      "Saying the Parent\n",
      "Saying the Child\n",
      "Saying the Parent\n"
     ]
    }
   ],
   "source": [
    "class Parent:\n",
    "\n",
    "    def call(self):\n",
    "        print(\"Saying the Parent\")\n",
    "\n",
    "\n",
    "class Child(Parent):\n",
    "\n",
    "    def callChild(self):\n",
    "        print(\"Saying the Child\")\n",
    "\n",
    "\n",
    "c = Child()\n",
    "c.call()\n",
    "c.callChild()\n",
    "a = Parent()\n",
    "a.call()\n"
   ]
  },
  {
   "attachments": {},
   "cell_type": "markdown",
   "metadata": {},
   "source": [
    "### Multiple Inheritance"
   ]
  },
  {
   "cell_type": "code",
   "execution_count": 14,
   "metadata": {},
   "outputs": [
    {
     "name": "stdout",
     "output_type": "stream",
     "text": [
      "Calling the child 2\n",
      "Saying the Parent\n",
      "Saying the Child\n",
      "Saying the Parent\n"
     ]
    }
   ],
   "source": [
    "class Parent:\n",
    "\n",
    "    def call(self):\n",
    "        print(\"Saying the Parent\")\n",
    "\n",
    "\n",
    "class Child1(Parent):\n",
    "\n",
    "    def callChild(self):\n",
    "        print(\"Saying the Child\")\n",
    "\n",
    "\n",
    "class Child2(Parent):\n",
    "    def callChild2(self):\n",
    "        print(\"Calling the child 2\")\n",
    "\n",
    "\n",
    "c = Child1()\n",
    "d = Child2()\n",
    "d.callChild2()\n",
    "c.call()\n",
    "c.callChild()\n",
    "a = Parent()\n",
    "a.call()\n"
   ]
  },
  {
   "attachments": {},
   "cell_type": "markdown",
   "metadata": {},
   "source": [
    "### Multilevel Inheritance"
   ]
  },
  {
   "cell_type": "code",
   "execution_count": 17,
   "metadata": {},
   "outputs": [
    {
     "name": "stdout",
     "output_type": "stream",
     "text": [
      "calling the Grand Parent\n",
      "Calling the Parent\n",
      "Calling the Parent\n",
      "Calling the Child\n",
      "calling the Grand Parent\n",
      "calling the Grand Parent\n"
     ]
    }
   ],
   "source": [
    "class GrandParent:\n",
    "    def call(self):\n",
    "        print(\"calling the Grand Parent\")\n",
    "\n",
    "\n",
    "class Parent(GrandParent):\n",
    "    def call_Parent(self):\n",
    "        print(\"Calling the Parent\")\n",
    "\n",
    "\n",
    "class Child(Parent):\n",
    "    def call_Child(self):\n",
    "        print(\"Calling the Child\")\n",
    "\n",
    "\n",
    "# this method can be called by the parent means the parent should have the properties as of that their parent\n",
    "p = Parent()\n",
    "p.call()\n",
    "p.call_Parent()\n",
    "\n",
    "c = Child()\n",
    "c.call_Parent()\n",
    "c.call_Child()\n",
    "c.call()\n",
    "\n",
    "g = GrandParent()\n",
    "g.call()\n"
   ]
  },
  {
   "attachments": {},
   "cell_type": "markdown",
   "metadata": {},
   "source": [
    "#### Method Overriding"
   ]
  },
  {
   "cell_type": "code",
   "execution_count": 18,
   "metadata": {},
   "outputs": [
    {
     "name": "stdout",
     "output_type": "stream",
     "text": [
      "Calling the Child Call Mehtod\n",
      "Calling the call 2 child method\n",
      "Calling the Parent Call Method\n"
     ]
    }
   ],
   "source": [
    "class Parent:\n",
    "    def call(self):\n",
    "        print(\"Calling the Parent Call Method\")\n",
    "\n",
    "\n",
    "class Child(Parent):\n",
    "    def call(self):\n",
    "        print(\"Calling the Child Call Mehtod\")\n",
    "\n",
    "    def call2(self):\n",
    "        print(\"Calling the call 2 child method\")\n",
    "\n",
    "\n",
    "c = Child()\n",
    "c.call()\n",
    "c.call2()\n",
    "\n",
    "p = Parent()\n",
    "p.call()\n"
   ]
  },
  {
   "attachments": {},
   "cell_type": "markdown",
   "metadata": {},
   "source": [
    "#### Super Method\n",
    "\n",
    "To call the Parent function or constructor super method is used"
   ]
  },
  {
   "cell_type": "code",
   "execution_count": 25,
   "metadata": {},
   "outputs": [
    {
     "name": "stdout",
     "output_type": "stream",
     "text": [
      "Calling the Parent Constructor\n",
      "Calling the Child constructor\n",
      "Calling the Parent Call Method\n",
      "Calling the Child Call Mehtod\n",
      "Calling the call 3 method of parent class\n",
      "Calling the call 2 child method\n"
     ]
    }
   ],
   "source": [
    "class Parent:\n",
    "\n",
    "    def __init__(self) -> None:\n",
    "        print(\"Calling the Parent Constructor\")\n",
    "\n",
    "    def call(self):\n",
    "        print(\"Calling the Parent Call Method\")\n",
    "\n",
    "    def call3(self):\n",
    "        print(\"Calling the call 3 method of parent class\")\n",
    "\n",
    "\n",
    "class Child(Parent):\n",
    "\n",
    "    def __init__(self) -> None:\n",
    "        super().__init__()\n",
    "        print(\"Calling the Child constructor\")\n",
    "\n",
    "    def call(self):\n",
    "        super().call()  # calls the parent call method\n",
    "        print(\"Calling the Child Call Mehtod\")\n",
    "\n",
    "    def call2(self):\n",
    "        super().call3()\n",
    "        print(\"Calling the call 2 child method\")\n",
    "\n",
    "\n",
    "c = Child()\n",
    "c.call()\n",
    "c.call2()\n"
   ]
  },
  {
   "attachments": {},
   "cell_type": "markdown",
   "metadata": {},
   "source": [
    "#### Class Method"
   ]
  },
  {
   "cell_type": "code",
   "execution_count": 5,
   "metadata": {},
   "outputs": [
    {
     "name": "stdout",
     "output_type": "stream",
     "text": [
      "3\n",
      "This is the math function\n",
      "7\n",
      "This is the math function\n",
      "5\n"
     ]
    }
   ],
   "source": [
    "class Math:\n",
    "\n",
    "    mathFunc = \"This is the math function\"\n",
    "\n",
    "    def sum(self, no1: int, no2: int):\n",
    "        return no1+no2\n",
    "\n",
    "    @classmethod\n",
    "    # cls parameter is given to access the math class attributes or variable\n",
    "    def sumMethod(cls, no1, no2):\n",
    "        print(cls.mathFunc)\n",
    "        print(cls.sum(cls, no1, no2))\n",
    "\n",
    "\n",
    "m = Math()\n",
    "print(m.sum(1, 2))\n",
    "# calling the class method without creating the object\n",
    "Math.sumMethod(3, 4)\n",
    "m.sumMethod(2, 3)\n"
   ]
  },
  {
   "attachments": {},
   "cell_type": "markdown",
   "metadata": {},
   "source": [
    "#### Getters and setter of the class"
   ]
  },
  {
   "cell_type": "code",
   "execution_count": 10,
   "metadata": {},
   "outputs": [
    {
     "name": "stdout",
     "output_type": "stream",
     "text": [
      "100\n",
      "400\n",
      "400\n"
     ]
    }
   ],
   "source": [
    "class Employee:\n",
    "    __salary__ = 100\n",
    "\n",
    "    @property\n",
    "    def getSalary(self):\n",
    "        return self.__salary__\n",
    "\n",
    "    @getSalary.setter\n",
    "    def setSalary(self, salary):\n",
    "        self.__salary__ = salary\n",
    "\n",
    "\n",
    "em = Employee()\n",
    "print(em.getSalary)\n",
    "em.setSalary = 400\n",
    "print(em.getSalary)\n",
    "print(em.__salary__)\n"
   ]
  },
  {
   "attachments": {},
   "cell_type": "markdown",
   "metadata": {},
   "source": [
    "#### Dunder Methods or Magic Methods\n",
    "\n",
    "Dunder methods are methods are methods are created using `__name__` syntax\n",
    "\n",
    "For more methods refer to python official docs"
   ]
  },
  {
   "attachments": {},
   "cell_type": "markdown",
   "metadata": {},
   "source": [
    "`__str__` dunder method & `__len__` dunder method"
   ]
  },
  {
   "cell_type": "code",
   "execution_count": 21,
   "metadata": {},
   "outputs": [
    {
     "name": "stdout",
     "output_type": "stream",
     "text": [
      "Salary of the Employee Name = Prath is 100\n",
      "Salary of the Employee Name = Prath is 400\n"
     ]
    },
    {
     "data": {
      "text/plain": [
       "5"
      ]
     },
     "execution_count": 21,
     "metadata": {},
     "output_type": "execute_result"
    }
   ],
   "source": [
    "class Employee:\n",
    "    def __init__(self,salary:int,name:str) -> None:\n",
    "        self.__salary__=salary\n",
    "        self.__name=name\n",
    "\n",
    "    @property\n",
    "    def getSalary(self):\n",
    "        return self.__salary__\n",
    "\n",
    "    @getSalary.setter\n",
    "    def setSalary(self, salary):\n",
    "        self.__salary__ = salary\n",
    "        \n",
    "    def __str__(self) -> str:\n",
    "        return f\"Salary of the Employee Name = {self.__name} is {self.__salary__}\"\n",
    "    \n",
    "    def __len__(self):\n",
    "        return len(self.__name)\n",
    "    \n",
    "    \n",
    "em=Employee(100,\"Prath\")\n",
    "print(em)\n",
    "em.setSalary=400\n",
    "print(em)\n",
    "len(em)\n"
   ]
  },
  {
   "attachments": {},
   "cell_type": "markdown",
   "metadata": {},
   "source": [
    "Other useful dunder method"
   ]
  },
  {
   "cell_type": "code",
   "execution_count": 28,
   "metadata": {},
   "outputs": [
    {
     "name": "stdout",
     "output_type": "stream",
     "text": [
      "4\n",
      "-2\n",
      "3\n"
     ]
    }
   ],
   "source": [
    "class Number:\n",
    "    def __init__(self,no:int) -> None:\n",
    "        self.__no=no\n",
    "    \n",
    "    def __add__(self,no2):\n",
    "        return self.__no+no2.__no\n",
    "    \n",
    "    def __mul__(self,no2):\n",
    "        return self.__no*no2.__no\n",
    "    \n",
    "    def __sub__(self,no2):\n",
    "        return self.__no-no2.__no\n",
    "\n",
    "n1=Number(1)\n",
    "n2=Number(3)\n",
    "print(n1+n2)\n",
    "print(n1-n2)\n",
    "print(n1*n2)\n",
    "\n",
    "        "
   ]
  },
  {
   "attachments": {},
   "cell_type": "markdown",
   "metadata": {},
   "source": [
    "#### Useful Built in Methods"
   ]
  },
  {
   "attachments": {},
   "cell_type": "markdown",
   "metadata": {},
   "source": [
    "Reversed Class - which reverses the order of any given variable or datatype"
   ]
  },
  {
   "cell_type": "code",
   "execution_count": 34,
   "metadata": {},
   "outputs": [
    {
     "name": "stdout",
     "output_type": "stream",
     "text": [
      "['h', 's', 'e', 'm', 'a', 'h', 't', 'a', 'r', 'P']\n"
     ]
    }
   ],
   "source": [
    "print(list(reversed(\"Prathamesh\")))"
   ]
  },
  {
   "attachments": {},
   "cell_type": "markdown",
   "metadata": {},
   "source": [
    "Binary numbers, octal numbers, hexadecimal numbers function"
   ]
  },
  {
   "cell_type": "code",
   "execution_count": 35,
   "metadata": {},
   "outputs": [
    {
     "name": "stdout",
     "output_type": "stream",
     "text": [
      "0b101\n",
      "0x5\n",
      "0o5\n",
      "b'\\x00\\x00\\x00\\x00\\x00'\n"
     ]
    }
   ],
   "source": [
    "print(bin(5))\n",
    "print(hex(5))\n",
    "print(oct(5))\n",
    "print(bytes(5))"
   ]
  },
  {
   "attachments": {},
   "cell_type": "markdown",
   "metadata": {},
   "source": [
    "# The Intermediate Python Tutorial Ends Here\n",
    "\n",
    "To learn the Advanced Python read the next Advanced.ipynb file"
   ]
  }
 ],
 "metadata": {
  "kernelspec": {
   "display_name": "Python 3",
   "language": "python",
   "name": "python3"
  },
  "language_info": {
   "codemirror_mode": {
    "name": "ipython",
    "version": 3
   },
   "file_extension": ".py",
   "mimetype": "text/x-python",
   "name": "python",
   "nbconvert_exporter": "python",
   "pygments_lexer": "ipython3",
   "version": "3.10.3"
  },
  "orig_nbformat": 4
 },
 "nbformat": 4,
 "nbformat_minor": 2
}
