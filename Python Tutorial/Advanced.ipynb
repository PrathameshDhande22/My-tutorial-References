{
 "cells": [
  {
   "attachments": {},
   "cell_type": "markdown",
   "metadata": {},
   "source": [
    "# Python Tutorial\n",
    "\n",
    "### Python Advanced Tutorial"
   ]
  },
  {
   "attachments": {},
   "cell_type": "markdown",
   "metadata": {},
   "source": [
    "#### Exceptions \n",
    "\n",
    "\n",
    "Try and Catch Block"
   ]
  },
  {
   "cell_type": "code",
   "execution_count": 5,
   "metadata": {},
   "outputs": [
    {
     "name": "stdout",
     "output_type": "stream",
     "text": [
      "division by zero\n"
     ]
    }
   ],
   "source": [
    "try:\n",
    "    print(1/0)\n",
    "except Exception as e:\n",
    "    print(e)\n",
    "    "
   ]
  },
  {
   "attachments": {},
   "cell_type": "markdown",
   "metadata": {},
   "source": [
    "Try and Catch Block with Finally"
   ]
  },
  {
   "cell_type": "code",
   "execution_count": 7,
   "metadata": {},
   "outputs": [
    {
     "name": "stdout",
     "output_type": "stream",
     "text": [
      "0.0\n",
      "done Exceptios\n"
     ]
    }
   ],
   "source": [
    "try:\n",
    "    print(0/2)\n",
    "except ZeroDivisionError as e:\n",
    "    print(e)\n",
    "finally:\n",
    "    print(\"done Exceptios\")"
   ]
  },
  {
   "attachments": {},
   "cell_type": "markdown",
   "metadata": {},
   "source": [
    "Try and Catch Block with Else Clause"
   ]
  },
  {
   "cell_type": "code",
   "execution_count": 10,
   "metadata": {},
   "outputs": [
    {
     "name": "stdout",
     "output_type": "stream",
     "text": [
      "division by zero\n"
     ]
    }
   ],
   "source": [
    "try:\n",
    "    print(1/0)\n",
    "except ZeroDivisionError as e:\n",
    "    print(e)\n",
    "else:\n",
    "    # executes only when try is successfully\n",
    "    print(\"Exception Done\")\n",
    "    "
   ]
  },
  {
   "attachments": {},
   "cell_type": "markdown",
   "metadata": {},
   "source": [
    "Raising the Exceptions"
   ]
  },
  {
   "cell_type": "code",
   "execution_count": 11,
   "metadata": {},
   "outputs": [
    {
     "ename": "ValueError",
     "evalue": "This is not good",
     "output_type": "error",
     "traceback": [
      "\u001b[1;31m---------------------------------------------------------------------------\u001b[0m",
      "\u001b[1;31mValueError\u001b[0m                                Traceback (most recent call last)",
      "Cell \u001b[1;32mIn[11], line 2\u001b[0m\n\u001b[0;32m      1\u001b[0m \u001b[39mtry\u001b[39;00m:\n\u001b[1;32m----> 2\u001b[0m     a\u001b[39m=\u001b[39m\u001b[39mint\u001b[39;49m(\u001b[39minput\u001b[39;49m(\u001b[39m\"\u001b[39;49m\u001b[39mEnter a Number\u001b[39;49m\u001b[39m\"\u001b[39;49m))\n\u001b[0;32m      3\u001b[0m \u001b[39mexcept\u001b[39;00m:\n",
      "\u001b[1;31mValueError\u001b[0m: invalid literal for int() with base 10: '\"Prathmesh\"'",
      "\nDuring handling of the above exception, another exception occurred:\n",
      "\u001b[1;31mValueError\u001b[0m                                Traceback (most recent call last)",
      "Cell \u001b[1;32mIn[11], line 4\u001b[0m\n\u001b[0;32m      2\u001b[0m     a\u001b[39m=\u001b[39m\u001b[39mint\u001b[39m(\u001b[39minput\u001b[39m(\u001b[39m\"\u001b[39m\u001b[39mEnter a Number\u001b[39m\u001b[39m\"\u001b[39m))\n\u001b[0;32m      3\u001b[0m \u001b[39mexcept\u001b[39;00m:\n\u001b[1;32m----> 4\u001b[0m     \u001b[39mraise\u001b[39;00m \u001b[39mValueError\u001b[39;00m(\u001b[39m\"\u001b[39m\u001b[39mThis is not good\u001b[39m\u001b[39m\"\u001b[39m)\n",
      "\u001b[1;31mValueError\u001b[0m: This is not good"
     ]
    }
   ],
   "source": [
    "try:\n",
    "    a=int(input(\"Enter a Number\"))\n",
    "except:\n",
    "    raise ValueError(\"This is not good\")"
   ]
  },
  {
   "attachments": {},
   "cell_type": "markdown",
   "metadata": {},
   "source": [
    "#### Enumerate Function\n",
    "\n",
    "It is used to generate a index "
   ]
  },
  {
   "cell_type": "code",
   "execution_count": 12,
   "metadata": {},
   "outputs": [
    {
     "name": "stdout",
     "output_type": "stream",
     "text": [
      "10 is on index 0\n",
      "19 is on index 1\n",
      "3 is on index 2\n",
      "14 is on index 3\n",
      "54 is on index 4\n",
      "22 is on index 5\n"
     ]
    }
   ],
   "source": [
    "list=[10,19,3,14,54,22]\n",
    "for index,no in enumerate(list):\n",
    "    print(f\"{no} is on index {index}\")"
   ]
  },
  {
   "attachments": {},
   "cell_type": "markdown",
   "metadata": {},
   "source": [
    "#### List Comprehension\n"
   ]
  },
  {
   "cell_type": "code",
   "execution_count": 16,
   "metadata": {},
   "outputs": [
    {
     "name": "stdout",
     "output_type": "stream",
     "text": [
      "[0, 1, 2, 3, 4, 5, 6, 7, 8, 9, 10, 11, 12, 13, 14, 15, 16, 17, 18, 19, 20, 21, 22, 23, 24, 25, 26, 27, 28, 29, 30, 31, 32, 33, 34, 35, 36, 37, 38, 39, 40, 41, 42, 43, 44]\n"
     ]
    }
   ],
   "source": [
    "nos=[a for a in range(45)] # rather than writing the lengthy code list comprehension makes it simple\n",
    "print(nos)"
   ]
  },
  {
   "attachments": {},
   "cell_type": "markdown",
   "metadata": {},
   "source": [
    "List Comprehension with if condition"
   ]
  },
  {
   "cell_type": "code",
   "execution_count": 20,
   "metadata": {},
   "outputs": [
    {
     "name": "stdout",
     "output_type": "stream",
     "text": [
      "[0, 5, 10, 15, 20, 25, 30, 35, 40]\n"
     ]
    }
   ],
   "source": [
    "nos=[a for a in range(45) if a%5==0]\n",
    "print(nos)"
   ]
  },
  {
   "attachments": {},
   "cell_type": "markdown",
   "metadata": {},
   "source": [
    "## Lambda Function\n",
    "\n",
    "Instead of writing the long function in python we can write it using the lambda function"
   ]
  },
  {
   "cell_type": "code",
   "execution_count": 22,
   "metadata": {},
   "outputs": [
    {
     "name": "stdout",
     "output_type": "stream",
     "text": [
      "7\n",
      "7\n"
     ]
    }
   ],
   "source": [
    "# using simple function\n",
    "def sum(a,b):\n",
    "    print(a+b)\n",
    "\n",
    "# using lambda function\n",
    "func=lambda a,b:a+b\n",
    "print(func(3,4))\n",
    "sum(3,4)\n"
   ]
  },
  {
   "attachments": {},
   "cell_type": "markdown",
   "metadata": {},
   "source": [
    "##### Join Method\n",
    "\n",
    "consider you have a sequence of string or list of string you can use join method with some separator to make a string of list"
   ]
  },
  {
   "cell_type": "code",
   "execution_count": 23,
   "metadata": {},
   "outputs": [
    {
     "name": "stdout",
     "output_type": "stream",
     "text": [
      "prathamesh, sushant, lokesh, het, aditya\n"
     ]
    }
   ],
   "source": [
    "lists=[\"prathamesh\",\"sushant\",\"lokesh\",\"het\",\"aditya\"]\n",
    "print(\", \".join(lists))"
   ]
  },
  {
   "attachments": {},
   "cell_type": "markdown",
   "metadata": {},
   "source": [
    "#### Map Method\n",
    "\n",
    "if you are coming from javascript background then you can see that there is a map method which is used to map to it."
   ]
  },
  {
   "cell_type": "code",
   "execution_count": 42,
   "metadata": {},
   "outputs": [
    {
     "name": "stdout",
     "output_type": "stream",
     "text": [
      "[0, 1, 2, 3, 4, 5, 6, 7, 8, 9, 10, 11, 12, 13, 14, 15, 16, 17, 18, 19, 20, 21, 22, 23, 24, 25, 26, 27, 28, 29]\n",
      "(0, 5, 10, 15, 20, 5, 30, 35, 40, 45, 10, 55, 60, 65, 70, 15, 80, 85, 90, 95, 20, 105, 110, 115, 120, 25, 130, 135, 140, 145)\n"
     ]
    }
   ],
   "source": [
    "nos=[a for a in range(30)]\n",
    "print(nos)\n",
    "def take(no):\n",
    "    if no%5==0:\n",
    "        return no\n",
    "    else:\n",
    "        return no*5\n",
    "\n",
    "nosss=map(take,nos)\n",
    "print(tuple(nosss))\n"
   ]
  },
  {
   "attachments": {},
   "cell_type": "markdown",
   "metadata": {},
   "source": [
    "#### Filter Method \n",
    "\n",
    "Filter method is used to filter according to condition"
   ]
  },
  {
   "cell_type": "code",
   "execution_count": 40,
   "metadata": {},
   "outputs": [
    {
     "name": "stdout",
     "output_type": "stream",
     "text": [
      "(0, 2, 4, 6, 8, 10, 12, 14, 16, 18, 20, 22, 24, 26, 28)\n"
     ]
    }
   ],
   "source": [
    "print(tuple(filter(lambda a:a%2==0,nos)))\n"
   ]
  },
  {
   "attachments": {},
   "cell_type": "markdown",
   "metadata": {},
   "source": [
    "#### Reduce Method\n",
    "\n",
    "Reduce method is used to add the numbers"
   ]
  },
  {
   "cell_type": "code",
   "execution_count": 46,
   "metadata": {},
   "outputs": [
    {
     "name": "stdout",
     "output_type": "stream",
     "text": [
      "10\n"
     ]
    }
   ],
   "source": [
    "from functools import reduce\n",
    "\n",
    "\n",
    "print(reduce(lambda a,b:int(a)+int(b),[1,2,3,4]))"
   ]
  },
  {
   "attachments": {},
   "cell_type": "markdown",
   "metadata": {},
   "source": [
    "## Abstract Class\n"
   ]
  },
  {
   "cell_type": "code",
   "execution_count": 51,
   "metadata": {},
   "outputs": [
    {
     "name": "stdout",
     "output_type": "stream",
     "text": [
      "straight method\n",
      "this was the abstract method\n"
     ]
    }
   ],
   "source": [
    "from abc import ABC,abstractmethod\n",
    "\n",
    "class Model(ABC):\n",
    "    @abstractmethod\n",
    "    def modelmethod(self):\n",
    "        pass\n",
    "    \n",
    "    def straightmethod(self):\n",
    "        print(\"straight method\")\n",
    "    \n",
    "class Car(Model):\n",
    "    def modelmethod(self):\n",
    "        print(\"this was the abstract method\")\n",
    "        \n",
    "c=Car()\n",
    "c.straightmethod()\n",
    "c.modelmethod()"
   ]
  },
  {
   "attachments": {},
   "cell_type": "markdown",
   "metadata": {},
   "source": [
    "## Python Generators"
   ]
  },
  {
   "cell_type": "code",
   "execution_count": 56,
   "metadata": {},
   "outputs": [
    {
     "name": "stdout",
     "output_type": "stream",
     "text": [
      "0\n",
      "0\n"
     ]
    }
   ],
   "source": [
    "def looping():\n",
    "    for a in range(6):\n",
    "        yield a\n",
    "    \n",
    "print(next(looping()))\n",
    "print(next(looping()))"
   ]
  },
  {
   "attachments": {},
   "cell_type": "markdown",
   "metadata": {},
   "source": [
    "## args and Kwargs\n"
   ]
  },
  {
   "cell_type": "code",
   "execution_count": 58,
   "metadata": {},
   "outputs": [
    {
     "name": "stdout",
     "output_type": "stream",
     "text": [
      "writing here\n",
      "('dfd', 'one', 'tow')\n"
     ]
    }
   ],
   "source": [
    "def printer(write,*args): # *args returns the arguments in a tuple form\n",
    "    print(write)\n",
    "    print(args)\n",
    "\n",
    "printer(\"writing here\",\"dfd\",\"one\",'tow')"
   ]
  },
  {
   "cell_type": "code",
   "execution_count": 62,
   "metadata": {},
   "outputs": [
    {
     "name": "stdout",
     "output_type": "stream",
     "text": [
      "writing here\n",
      "{'data': 'new data', 'data2': 'another data'}\n"
     ]
    }
   ],
   "source": [
    "def printer(write,**kwargs): # return the arguments as dictionary in a key:value pair\n",
    "    print(write)\n",
    "    print(kwargs)\n",
    "    \n",
    "    \n",
    "printer(\"writing here\",data=\"new data\",data2=\"another data\")"
   ]
  },
  {
   "attachments": {},
   "cell_type": "markdown",
   "metadata": {},
   "source": [
    "### Creating Custom Exceptions"
   ]
  },
  {
   "cell_type": "code",
   "execution_count": 69,
   "metadata": {},
   "outputs": [
    {
     "name": "stdout",
     "output_type": "stream",
     "text": [
      "called the constructor\n",
      "Your Gurantee Has Expired\n"
     ]
    }
   ],
   "source": [
    "class GuaranteeExpiredError(Exception):\n",
    "    def __init__(self) -> None:\n",
    "        print(\"called the constructor\")\n",
    "        \n",
    "    def __str__(self) -> str:\n",
    "        return \"Your Gurantee Has Expired\"\n",
    "    \n",
    "try:\n",
    "    a=2\n",
    "    if a<4:\n",
    "        raise GuaranteeExpiredError()\n",
    "except Exception as e:\n",
    "    print(e)"
   ]
  },
  {
   "attachments": {},
   "cell_type": "markdown",
   "metadata": {},
   "source": [
    "## Decorators"
   ]
  },
  {
   "attachments": {},
   "cell_type": "markdown",
   "metadata": {},
   "source": [
    "simple decorator"
   ]
  },
  {
   "cell_type": "code",
   "execution_count": 77,
   "metadata": {},
   "outputs": [
    {
     "name": "stdout",
     "output_type": "stream",
     "text": [
      "calling the function 2\n",
      "Saying hello to decorator\n"
     ]
    }
   ],
   "source": [
    "def func(funs):\n",
    "    def func2():\n",
    "        print(\"calling the function 2\")\n",
    "        funs()\n",
    "    \n",
    "    return func2\n",
    "\n",
    "@func\n",
    "def sayHello():\n",
    "    print(\"Saying hello to decorator\")\n",
    "\n",
    "sayHello()"
   ]
  },
  {
   "attachments": {},
   "cell_type": "markdown",
   "metadata": {},
   "source": [
    "decorator with arguments"
   ]
  },
  {
   "cell_type": "code",
   "execution_count": 80,
   "metadata": {},
   "outputs": [
    {
     "name": "stdout",
     "output_type": "stream",
     "text": [
      "calling the function 2\n",
      "4 5\n"
     ]
    }
   ],
   "source": [
    "def func(funs):\n",
    "    def func2(a,b):\n",
    "        print(\"calling the function 2\")\n",
    "        funs(a,b)\n",
    "    \n",
    "    return func2\n",
    "@func\n",
    "def sayHello(a,b):\n",
    "    print(a,b)\n",
    "sayHello(4,5)"
   ]
  },
  {
   "cell_type": "code",
   "execution_count": 2,
   "metadata": {},
   "outputs": [
    {
     "name": "stdout",
     "output_type": "stream",
     "text": [
      "inside the decorator\n",
      "Prathamesh\n",
      "hello\n"
     ]
    }
   ],
   "source": [
    "def outer(*args,**kwargs):\n",
    "    def inner(func):\n",
    "        print(\"inside the decorator\")\n",
    "        print(kwargs[\"like\"])\n",
    "        func()\n",
    "    return inner\n",
    "\n",
    "@outer(like=\"Prathamesh\")\n",
    "def say():\n",
    "    print(\"hello\")"
   ]
  },
  {
   "attachments": {},
   "cell_type": "markdown",
   "metadata": {},
   "source": [
    "## Enum Examples"
   ]
  },
  {
   "cell_type": "code",
   "execution_count": 10,
   "metadata": {},
   "outputs": [],
   "source": [
    "from enum import Enum\n",
    "\n",
    "class Color(Enum):\n",
    "    Red=\"red\"\n",
    "    Yellow=\"yelow\"\n",
    "    Green=\"green\"\n",
    "    \n"
   ]
  },
  {
   "attachments": {},
   "cell_type": "markdown",
   "metadata": {},
   "source": [
    "### Async Await in Python\n"
   ]
  },
  {
   "cell_type": "code",
   "execution_count": 17,
   "metadata": {},
   "outputs": [
    {
     "name": "stdout",
     "output_type": "stream",
     "text": [
      "Executing\n",
      "{'id': 5}\n"
     ]
    }
   ],
   "source": [
    "async def data():\n",
    "    print(\"Executing\")\n",
    "    return {\"id\":5}\n",
    "\n",
    "fetch=await data()\n",
    "print(fetch)\n"
   ]
  },
  {
   "attachments": {},
   "cell_type": "markdown",
   "metadata": {},
   "source": [
    "# Python Tutorial is Now Over\n",
    "\n",
    "Refer to Online Materials for More Information"
   ]
  }
 ],
 "metadata": {
  "kernelspec": {
   "display_name": "Python 3",
   "language": "python",
   "name": "python3"
  },
  "language_info": {
   "codemirror_mode": {
    "name": "ipython",
    "version": 3
   },
   "file_extension": ".py",
   "mimetype": "text/x-python",
   "name": "python",
   "nbconvert_exporter": "python",
   "pygments_lexer": "ipython3",
   "version": "3.10.3"
  },
  "orig_nbformat": 4
 },
 "nbformat": 4,
 "nbformat_minor": 2
}
