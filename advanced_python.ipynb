{
 "cells": [
  {
   "cell_type": "markdown",
   "metadata": {},
   "source": [
    "# Tutorial on Advanced Python Function\n",
    "\n",
    "Tutorial on \n",
    "1. Itertools\n",
    "2. map function\n",
    "3. filter,zip,reduce function\n",
    "4. logging\n",
    "5. collections library\n"
   ]
  },
  {
   "cell_type": "markdown",
   "metadata": {},
   "source": [
    "## Python Brushup Class"
   ]
  },
  {
   "cell_type": "markdown",
   "metadata": {},
   "source": [
    "## Decorator\n"
   ]
  },
  {
   "cell_type": "markdown",
   "metadata": {},
   "source": [
    "Simple Decorator"
   ]
  },
  {
   "cell_type": "code",
   "execution_count": 1,
   "metadata": {},
   "outputs": [],
   "source": [
    "def function1(func):\n",
    "    def inside():\n",
    "        func()\n",
    "        print(\"Inside function, implemented on function1 function\")\n",
    "        func()\n",
    "    return inside\n",
    "\n",
    "\n"
   ]
  },
  {
   "cell_type": "code",
   "execution_count": 2,
   "metadata": {},
   "outputs": [
    {
     "name": "stdout",
     "output_type": "stream",
     "text": [
      "hello\n",
      "Inside function, implemented on function1 function\n",
      "hello\n"
     ]
    }
   ],
   "source": [
    "@function1\n",
    "def hello():\n",
    "    print(\"hello\")\n",
    "\n",
    "hello()"
   ]
  },
  {
   "cell_type": "markdown",
   "metadata": {},
   "source": [
    "decorator with paramter"
   ]
  },
  {
   "cell_type": "code",
   "execution_count": 3,
   "metadata": {},
   "outputs": [],
   "source": [
    "def function2(func):\n",
    "    def inside(a,b):\n",
    "        func(a,b)\n",
    "        return sum([a,b])\n",
    "    return inside\n"
   ]
  },
  {
   "cell_type": "code",
   "execution_count": 4,
   "metadata": {},
   "outputs": [
    {
     "name": "stdout",
     "output_type": "stream",
     "text": [
      "2 3\n",
      "5\n"
     ]
    }
   ],
   "source": [
    "@function2\n",
    "def call(a,b):\n",
    "    print(a,b)\n",
    "\n",
    "print(call(2,3))"
   ]
  },
  {
   "cell_type": "markdown",
   "metadata": {},
   "source": [
    "### Decorator"
   ]
  },
  {
   "cell_type": "code",
   "execution_count": 5,
   "metadata": {},
   "outputs": [
    {
     "name": "stdout",
     "output_type": "stream",
     "text": [
      "hello there\n",
      "hello there\n",
      "prathamesh\n"
     ]
    }
   ],
   "source": [
    "import functools\n",
    "\n",
    "def debug(numtimes):\n",
    "    def wrapper(func):\n",
    "        @functools.wraps(func)\n",
    "        def inside(*args,**kwargs):\n",
    "            for i in range(numtimes):\n",
    "                print(\"hello there\")\n",
    "            func(*args,**kwargs)\n",
    "        return inside\n",
    "    return wrapper\n",
    "\n",
    "@debug(numtimes=2)\n",
    "def greet(name):\n",
    "    print(name)\n",
    "\n",
    "greet(\"prathamesh\")\n"
   ]
  },
  {
   "cell_type": "markdown",
   "metadata": {
    "tags": []
   },
   "source": [
    "# args and kwargs"
   ]
  },
  {
   "cell_type": "markdown",
   "metadata": {},
   "source": [
    "args"
   ]
  },
  {
   "cell_type": "code",
   "execution_count": 6,
   "metadata": {},
   "outputs": [
    {
     "name": "stdout",
     "output_type": "stream",
     "text": [
      "<class 'str'>\n",
      "prathm 2 3 4\n"
     ]
    }
   ],
   "source": [
    "def printing(*args):\n",
    "    print(type(args[0]))\n",
    "    print(*args)\n",
    "\n",
    "printing(\"prathm\",2,3,4)"
   ]
  },
  {
   "cell_type": "markdown",
   "metadata": {},
   "source": [
    "kwargs"
   ]
  },
  {
   "cell_type": "code",
   "execution_count": 7,
   "metadata": {},
   "outputs": [
    {
     "data": {
      "text/plain": [
       "{'a': (1, 2, 3, 4)}"
      ]
     },
     "execution_count": 7,
     "metadata": {},
     "output_type": "execute_result"
    }
   ],
   "source": [
    "def printing(**kwargs):\n",
    "    return kwargs\n",
    "\n",
    "printing(a=(1,2,3,4))"
   ]
  },
  {
   "cell_type": "markdown",
   "metadata": {},
   "source": [
    "both"
   ]
  },
  {
   "cell_type": "code",
   "execution_count": 8,
   "metadata": {},
   "outputs": [
    {
     "name": "stdout",
     "output_type": "stream",
     "text": [
      "args : (12, 3, 4, 'helo', {'a': [1, 2, 3]})\n",
      "Kwargs : {'param': {'a': 1, 'b': 2}, 'arma': [1, 2, 3]}\n"
     ]
    }
   ],
   "source": [
    "def both(*argss,**kwargs):\n",
    "    print(\"args :\",argss)\n",
    "    print(\"Kwargs :\",kwargs)\n",
    "\n",
    "both(12,3,4,\"helo\",printing(a=[1,2,3]),param={'a':1,'b':2},arma=[1,2,3])\n"
   ]
  },
  {
   "cell_type": "code",
   "execution_count": 9,
   "metadata": {},
   "outputs": [
    {
     "name": "stdout",
     "output_type": "stream",
     "text": [
      "[([1, 2, 3, 4, 5, 6], 'p'), ([33, 34, 35, 36, 37, 38, 39, 40, 41, 42, 43, 44], 'a')]\n"
     ]
    }
   ],
   "source": [
    "import math\n",
    "\n",
    "num=[1,2,3,4,5,6]\n",
    "\n",
    "def fun1(x):\n",
    "    return math.pow(x,2)\n",
    "\n",
    "# print(map(fun1,num))\n",
    "\n",
    "num2=[i for i in range(33,45)]\n",
    "string=(\"p\",\"a\",\"r\",\"t\",\"h\")\n",
    "\n",
    "print(list(zip((num,num2),string)))"
   ]
  },
  {
   "cell_type": "markdown",
   "metadata": {},
   "source": [
    "## Filter,reduce"
   ]
  },
  {
   "cell_type": "code",
   "execution_count": 10,
   "metadata": {},
   "outputs": [
    {
     "name": "stdout",
     "output_type": "stream",
     "text": [
      "[34, 36, 38, 40, 42, 44]\n"
     ]
    }
   ],
   "source": [
    "print(list(filter(lambda x:x%2==0,num2)))"
   ]
  },
  {
   "cell_type": "code",
   "execution_count": 11,
   "metadata": {},
   "outputs": [
    {
     "name": "stdout",
     "output_type": "stream",
     "text": [
      "45\n"
     ]
    }
   ],
   "source": [
    "from functools import reduce\n",
    "num=[i for i in range(10)]\n",
    "\n",
    "print(reduce(lambda x,y:x+y,num))"
   ]
  },
  {
   "cell_type": "markdown",
   "metadata": {},
   "source": [
    "## Special Methods"
   ]
  },
  {
   "cell_type": "code",
   "execution_count": 12,
   "metadata": {},
   "outputs": [
    {
     "name": "stdout",
     "output_type": "stream",
     "text": [
      "C:\\Users\\asus\\AppData\\Roaming\\Python\\Python39\\site-packages\\numpy\\__init__.py\n"
     ]
    }
   ],
   "source": [
    "import numpy\n",
    "\n",
    "print(numpy.__file__)"
   ]
  },
  {
   "cell_type": "code",
   "execution_count": 13,
   "metadata": {},
   "outputs": [],
   "source": [
    "# print(numpy.__all__)\n",
    "# print(numpy.__bui-ltins__)\n",
    "# print(numpy.__git_version__)\n",
    "# print(numpy.__version__)"
   ]
  },
  {
   "cell_type": "markdown",
   "metadata": {},
   "source": [
    "# Collections module"
   ]
  },
  {
   "cell_type": "markdown",
   "metadata": {},
   "source": [
    "python collections module is defined as a container that is used to store collections of data\n",
    "ex:- list,set,dict,tuple,etc.\n",
    "Types:\n",
    "1. OrderedDict\n",
    "2. DefaultDict\n",
    "3. Counter\n",
    "4. namedtuple\n",
    "5. deque (most used)"
   ]
  },
  {
   "cell_type": "markdown",
   "metadata": {},
   "source": [
    "> from collections import deque"
   ]
  },
  {
   "cell_type": "markdown",
   "metadata": {},
   "source": [
    "## Counter"
   ]
  },
  {
   "cell_type": "code",
   "execution_count": 14,
   "metadata": {},
   "outputs": [
    {
     "name": "stdout",
     "output_type": "stream",
     "text": [
      "Counter({'d': 6, 'a': 4, 'b': 2, 'c': 1})\n",
      "[('b', 3), ('a', 2), ('c', 2)]\n",
      "2\n",
      "dict_values([2, 3, 2])\n"
     ]
    }
   ],
   "source": [
    "from collections import (namedtuple,OrderedDict,Counter,defaultdict,deque)\n",
    "\n",
    "a=\"adaabbdcdddad\"\n",
    "\n",
    "c=Counter(a)\n",
    "print(c)\n",
    "\n",
    "\n",
    "a=[\"a\",\"b\",\"b\",\"b\",\"a\",\"c\",\"c\"]\n",
    "c=Counter(a)\n",
    "print(c.most_common(3))\n",
    "print(c.get(\"a\"))\n",
    "\n",
    "print(c.values())\n"
   ]
  },
  {
   "cell_type": "markdown",
   "metadata": {},
   "source": [
    "## namedtuple"
   ]
  },
  {
   "cell_type": "code",
   "execution_count": 15,
   "metadata": {},
   "outputs": [
    {
     "name": "stdout",
     "output_type": "stream",
     "text": [
      "<class '__main__.version'>\n",
      "2\n",
      "version(x=2, y=3, z=4)\n"
     ]
    }
   ],
   "source": [
    "pt=namedtuple(\"version\",['x','y','z'])\n",
    "print(pt)\n",
    "v=pt(2,3,4)\n",
    "print(v[0])\n",
    "print(v)"
   ]
  },
  {
   "cell_type": "markdown",
   "metadata": {},
   "source": [
    "## Ordereddict"
   ]
  },
  {
   "cell_type": "code",
   "execution_count": 16,
   "metadata": {},
   "outputs": [
    {
     "name": "stdout",
     "output_type": "stream",
     "text": [
      "OrderedDict([('a', 1), (1, 56)])\n",
      "OrderedDict([('a', 1), (1, 56)])\n",
      "OrderedDict([('a', 1), (1, 56)])\n",
      "None\n",
      "OrderedDict([(1, 56), ('a', 1)])\n"
     ]
    }
   ],
   "source": [
    "ord=OrderedDict()\n",
    "ord['a']=1\n",
    "ord[1]=56\n",
    "print(ord)\n",
    "print(ord.__str__())\n",
    "from pprint import pprint\n",
    "pprint(ord)\n",
    "\n",
    "print(ord.move_to_end('a'))\n",
    "print(ord)"
   ]
  },
  {
   "cell_type": "markdown",
   "metadata": {},
   "source": [
    "ordereddict and defaultdict are same but now they are replaced by the python built-int class dict\n"
   ]
  },
  {
   "cell_type": "markdown",
   "metadata": {},
   "source": [
    "## Deque"
   ]
  },
  {
   "cell_type": "code",
   "execution_count": 17,
   "metadata": {},
   "outputs": [
    {
     "name": "stdout",
     "output_type": "stream",
     "text": [
      "deque([4])\n",
      "deque([4, 0, 1, 2, 3, 4, 5, 6])\n",
      "None\n",
      "deque([0, 1, 2, 3, 4, 5, 6])\n",
      "deque([0, 1, 2, 3, 4, 5])\n",
      "deque([0, 2, 3, 4, 5])\n"
     ]
    }
   ],
   "source": [
    "de=deque()\n",
    "de.append(4)\n",
    "print(de)\n",
    "\n",
    "de.extend([i for i in range(7)])\n",
    "print(de)\n",
    "\n",
    "de.count(4)\n",
    "print(de.maxlen)\n",
    "\n",
    "de.popleft()\n",
    "print(de)\n",
    "\n",
    "de.pop()\n",
    "print(de)\n",
    "\n",
    "de.remove(1)\n",
    "print(de)"
   ]
  },
  {
   "cell_type": "markdown",
   "metadata": {},
   "source": [
    "# Itertools"
   ]
  },
  {
   "cell_type": "markdown",
   "metadata": {},
   "source": [
    "Python itertools is a module that provide various functions that work on iterators to produce complex iterators.\n",
    "This module work as a fast,memory-efficient tool that is used either by themselves or in combinations to form iterator algebra.\n",
    "\n",
    "can be used in for loop\n",
    "\n",
    "**Types** :\n",
    "1. product\n",
    "2. permutations\n",
    "3. combination\n",
    "4. accumulate\n",
    "5. groupby and\n",
    "6. infinite iterators"
   ]
  },
  {
   "cell_type": "markdown",
   "metadata": {},
   "source": [
    "Importing the modules"
   ]
  },
  {
   "cell_type": "code",
   "execution_count": 18,
   "metadata": {},
   "outputs": [],
   "source": [
    "from itertools import (cycle,chain,repeat,product,permutations,combinations,accumulate)"
   ]
  },
  {
   "cell_type": "markdown",
   "metadata": {},
   "source": [
    "Cycle"
   ]
  },
  {
   "cell_type": "code",
   "execution_count": 19,
   "metadata": {},
   "outputs": [
    {
     "name": "stdout",
     "output_type": "stream",
     "text": [
      "a\n",
      "b\n",
      "c\n",
      "d\n",
      "a\n",
      "b\n",
      "c\n",
      "d\n",
      "a\n"
     ]
    }
   ],
   "source": [
    "count1=1\n",
    "for i in cycle(['a','b','c','d']):\n",
    "    print(i)\n",
    "    count1=count1+1\n",
    "    if count1==10:\n",
    "        break;\n"
   ]
  },
  {
   "cell_type": "markdown",
   "metadata": {},
   "source": [
    "repeat"
   ]
  },
  {
   "cell_type": "code",
   "execution_count": 20,
   "metadata": {},
   "outputs": [
    {
     "name": "stdout",
     "output_type": "stream",
     "text": [
      "1:5\n",
      "2:5\n",
      "3:5\n",
      "4:5\n",
      "5:5\n",
      "6:5\n",
      "7:5\n",
      "8:5\n",
      "9:5\n",
      "10:5\n"
     ]
    }
   ],
   "source": [
    "for i,index in enumerate(repeat(5,10)):\n",
    "    print(f\"{i+1}:{index}\")"
   ]
  },
  {
   "cell_type": "markdown",
   "metadata": {},
   "source": [
    "count"
   ]
  },
  {
   "cell_type": "code",
   "execution_count": 21,
   "metadata": {},
   "outputs": [
    {
     "ename": "NameError",
     "evalue": "name 'count' is not defined",
     "output_type": "error",
     "traceback": [
      "\u001b[1;31m---------------------------------------------------------------------------\u001b[0m",
      "\u001b[1;31mNameError\u001b[0m                                 Traceback (most recent call last)",
      "Cell \u001b[1;32mIn [21], line 1\u001b[0m\n\u001b[1;32m----> 1\u001b[0m \u001b[38;5;28;01mfor\u001b[39;00m i \u001b[38;5;129;01min\u001b[39;00m \u001b[43mcount\u001b[49m(\u001b[38;5;241m10\u001b[39m):\n\u001b[0;32m      2\u001b[0m     \u001b[38;5;28mprint\u001b[39m(i)\n",
      "\u001b[1;31mNameError\u001b[0m: name 'count' is not defined"
     ]
    }
   ],
   "source": [
    "for i in count(10):\n",
    "    print(i)"
   ]
  },
  {
   "cell_type": "markdown",
   "metadata": {},
   "source": [
    "product"
   ]
  },
  {
   "cell_type": "code",
   "execution_count": null,
   "metadata": {},
   "outputs": [
    {
     "name": "stdout",
     "output_type": "stream",
     "text": [
      "[(1, 5, 1, 5), (1, 5, 1, 6), (1, 5, 1, 7), (1, 5, 2, 5), (1, 5, 2, 6), (1, 5, 2, 7), (1, 5, 4, 5), (1, 5, 4, 6), (1, 5, 4, 7), (1, 6, 1, 5), (1, 6, 1, 6), (1, 6, 1, 7), (1, 6, 2, 5), (1, 6, 2, 6), (1, 6, 2, 7), (1, 6, 4, 5), (1, 6, 4, 6), (1, 6, 4, 7), (1, 7, 1, 5), (1, 7, 1, 6), (1, 7, 1, 7), (1, 7, 2, 5), (1, 7, 2, 6), (1, 7, 2, 7), (1, 7, 4, 5), (1, 7, 4, 6), (1, 7, 4, 7), (2, 5, 1, 5), (2, 5, 1, 6), (2, 5, 1, 7), (2, 5, 2, 5), (2, 5, 2, 6), (2, 5, 2, 7), (2, 5, 4, 5), (2, 5, 4, 6), (2, 5, 4, 7), (2, 6, 1, 5), (2, 6, 1, 6), (2, 6, 1, 7), (2, 6, 2, 5), (2, 6, 2, 6), (2, 6, 2, 7), (2, 6, 4, 5), (2, 6, 4, 6), (2, 6, 4, 7), (2, 7, 1, 5), (2, 7, 1, 6), (2, 7, 1, 7), (2, 7, 2, 5), (2, 7, 2, 6), (2, 7, 2, 7), (2, 7, 4, 5), (2, 7, 4, 6), (2, 7, 4, 7), (4, 5, 1, 5), (4, 5, 1, 6), (4, 5, 1, 7), (4, 5, 2, 5), (4, 5, 2, 6), (4, 5, 2, 7), (4, 5, 4, 5), (4, 5, 4, 6), (4, 5, 4, 7), (4, 6, 1, 5), (4, 6, 1, 6), (4, 6, 1, 7), (4, 6, 2, 5), (4, 6, 2, 6), (4, 6, 2, 7), (4, 6, 4, 5), (4, 6, 4, 6), (4, 6, 4, 7), (4, 7, 1, 5), (4, 7, 1, 6), (4, 7, 1, 7), (4, 7, 2, 5), (4, 7, 2, 6), (4, 7, 2, 7), (4, 7, 4, 5), (4, 7, 4, 6), (4, 7, 4, 7)]\n"
     ]
    }
   ],
   "source": [
    "a=[1,2,4]\n",
    "b=[5,6,7]\n",
    "pr=product(a,b,repeat=2)\n",
    "print(list(pr))"
   ]
  },
  {
   "cell_type": "markdown",
   "metadata": {},
   "source": [
    "combinations"
   ]
  },
  {
   "cell_type": "code",
   "execution_count": null,
   "metadata": {},
   "outputs": [
    {
     "name": "stdout",
     "output_type": "stream",
     "text": [
      "[(1, 2, 4), (1, 2, 5), (1, 4, 5), (2, 4, 5)]\n"
     ]
    }
   ],
   "source": [
    "a=[1,2,4,5]\n",
    "com=combinations(a,3)\n",
    "print(list(com))"
   ]
  },
  {
   "cell_type": "code",
   "execution_count": null,
   "metadata": {},
   "outputs": [
    {
     "name": "stdout",
     "output_type": "stream",
     "text": [
      "[('a', 'b', 'c'), ('a', 'b', 'd'), ('a', 'b', 'e'), ('a', 'c', 'd'), ('a', 'c', 'e'), ('a', 'd', 'e'), ('b', 'c', 'd'), ('b', 'c', 'e'), ('b', 'd', 'e'), ('c', 'd', 'e')]\n"
     ]
    }
   ],
   "source": [
    "bb=[\"a\",\"b\",\"c\",\"d\",\"e\"]\n",
    "co=combinations(bb,3)\n",
    "print(list(co))"
   ]
  },
  {
   "cell_type": "markdown",
   "metadata": {},
   "source": [
    "combinations with replacement"
   ]
  },
  {
   "cell_type": "code",
   "execution_count": null,
   "metadata": {},
   "outputs": [
    {
     "name": "stdout",
     "output_type": "stream",
     "text": [
      "[('a', 'a'), ('a', 'b'), ('a', 'c'), ('a', 'd'), ('a', 'e'), ('b', 'b'), ('b', 'c'), ('b', 'd'), ('b', 'e'), ('c', 'c'), ('c', 'd'), ('c', 'e'), ('d', 'd'), ('d', 'e'), ('e', 'e')]\n"
     ]
    }
   ],
   "source": [
    "from itertools import combinations_with_replacement\n",
    "comw=combinations_with_replacement(bb,2)\n",
    "print(list(comw))"
   ]
  },
  {
   "cell_type": "markdown",
   "metadata": {},
   "source": [
    "permutations"
   ]
  },
  {
   "cell_type": "code",
   "execution_count": null,
   "metadata": {},
   "outputs": [
    {
     "name": "stdout",
     "output_type": "stream",
     "text": [
      "[('a', 'b'), ('a', 'c'), ('a', 'd'), ('a', 'e'), ('b', 'a'), ('b', 'c'), ('b', 'd'), ('b', 'e'), ('c', 'a'), ('c', 'b'), ('c', 'd'), ('c', 'e'), ('d', 'a'), ('d', 'b'), ('d', 'c'), ('d', 'e'), ('e', 'a'), ('e', 'b'), ('e', 'c'), ('e', 'd')]\n"
     ]
    }
   ],
   "source": [
    "perm=permutations(bb,2)\n",
    "print(list(perm))"
   ]
  },
  {
   "cell_type": "markdown",
   "metadata": {},
   "source": [
    "accumulate "
   ]
  },
  {
   "cell_type": "code",
   "execution_count": null,
   "metadata": {},
   "outputs": [
    {
     "name": "stdout",
     "output_type": "stream",
     "text": [
      "['a', 'ab', 'abc', 'abcd', 'abcde']\n"
     ]
    }
   ],
   "source": [
    "acc=accumulate(bb)\n",
    "print(list(acc))"
   ]
  },
  {
   "cell_type": "markdown",
   "metadata": {},
   "source": [
    "groupby"
   ]
  },
  {
   "cell_type": "code",
   "execution_count": null,
   "metadata": {},
   "outputs": [
    {
     "name": "stdout",
     "output_type": "stream",
     "text": [
      "True [1, 2]\n",
      "False [4, 5]\n"
     ]
    }
   ],
   "source": [
    "from itertools import groupby\n",
    "\n",
    "gr=groupby(a,key=lambda x:x<4)\n",
    "for key,value in gr:\n",
    "    print(key,list(value))"
   ]
  },
  {
   "cell_type": "code",
   "execution_count": null,
   "metadata": {},
   "outputs": [
    {
     "name": "stdout",
     "output_type": "stream",
     "text": [
      "[1, 2, 4, 5]\n",
      "[1, 2, 4]\n"
     ]
    }
   ],
   "source": [
    "from itertools import compress\n",
    "print(a)\n",
    "cc=compress(a,[5,2,3])\n",
    "print(list(cc))"
   ]
  },
  {
   "cell_type": "markdown",
   "metadata": {},
   "source": [
    "# Context Manager"
   ]
  },
  {
   "cell_type": "code",
   "execution_count": null,
   "metadata": {},
   "outputs": [
    {
     "name": "stdout",
     "output_type": "stream",
     "text": [
      "('p', 'a', 'r', 't', 'h')\n",
      "<traceback object at 0x00000166AECD0B40> '_io.TextIOWrapper' object has no attribute 'hello' <class 'AttributeError'>\n"
     ]
    },
    {
     "ename": "AttributeError",
     "evalue": "'_io.TextIOWrapper' object has no attribute 'hello'",
     "output_type": "error",
     "traceback": [
      "\u001b[1;31m---------------------------------------------------------------------------\u001b[0m",
      "\u001b[1;31mAttributeError\u001b[0m                            Traceback (most recent call last)",
      "Cell \u001b[1;32mIn [27], line 20\u001b[0m\n\u001b[0;32m     16\u001b[0m         \u001b[38;5;28mprint\u001b[39m(string)\n\u001b[0;32m     19\u001b[0m \u001b[38;5;28;01mwith\u001b[39;00m Manager(\u001b[38;5;124m\"\u001b[39m\u001b[38;5;124mfile.txt\u001b[39m\u001b[38;5;124m\"\u001b[39m) \u001b[38;5;28;01mas\u001b[39;00m f:\n\u001b[1;32m---> 20\u001b[0m     \u001b[43mf\u001b[49m\u001b[38;5;241;43m.\u001b[39;49m\u001b[43mhello\u001b[49m(\u001b[38;5;124m\"\u001b[39m\u001b[38;5;124mwritten from context manager\u001b[39m\u001b[38;5;124m\"\u001b[39m)\n",
      "\u001b[1;31mAttributeError\u001b[0m: '_io.TextIOWrapper' object has no attribute 'hello'"
     ]
    }
   ],
   "source": [
    "class Manager:\n",
    "    def __init__(self,filename) -> None:\n",
    "        self.filename=filename\n",
    "\n",
    "    def __enter__(self):\n",
    "        self.f=open(self.filename,'w')\n",
    "        self.__hello__(string)\n",
    "        return self.f\n",
    "\n",
    "    def __exit__(self,exc_type,exc_value,exc_traceback):\n",
    "        print(exc_traceback,exc_value,exc_type)\n",
    "        if self.f:\n",
    "            self.f.close()\n",
    "\n",
    "    def __hello__(self,string):\n",
    "        print(string)\n",
    "\n",
    "\n",
    "with Manager(\"file.txt\") as f:\n",
    "    f.hello(\"written from context manager\")\n",
    "\n"
   ]
  },
  {
   "cell_type": "markdown",
   "metadata": {},
   "source": [
    "### Function context manager"
   ]
  },
  {
   "cell_type": "code",
   "execution_count": 22,
   "metadata": {},
   "outputs": [
    {
     "name": "stdout",
     "output_type": "stream",
     "text": [
      "hello\n",
      "inside the context manager function\n"
     ]
    }
   ],
   "source": [
    "from contextlib import contextmanager\n",
    "\n",
    "@contextmanager\n",
    "def managed_open(filename):\n",
    "    yield \"hello\"\n",
    "    print(\"inside the context manager function\")\n",
    "    \n",
    "\n",
    "with managed_open(\"filename\") as f:\n",
    "    print(f)"
   ]
  },
  {
   "cell_type": "code",
   "execution_count": null,
   "metadata": {},
   "outputs": [],
   "source": []
  }
 ],
 "metadata": {
  "kernelspec": {
   "display_name": "Python 3 (ipykernel)",
   "language": "python",
   "name": "python3"
  },
  "language_info": {
   "codemirror_mode": {
    "name": "ipython",
    "version": 3
   },
   "file_extension": ".py",
   "mimetype": "text/x-python",
   "name": "python",
   "nbconvert_exporter": "python",
   "pygments_lexer": "ipython3",
   "version": "3.9.10"
  },
  "vscode": {
   "interpreter": {
    "hash": "11938c6bc6919ae2720b4d5011047913343b08a43b18698fd82dedb0d4417594"
   }
  }
 },
 "nbformat": 4,
 "nbformat_minor": 2
}
