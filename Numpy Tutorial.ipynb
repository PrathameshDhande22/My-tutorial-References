{
 "cells": [
  {
   "cell_type": "markdown",
   "id": "30c9cd7c",
   "metadata": {},
   "source": [
    "## Importing the Numpy Module"
   ]
  },
  {
   "cell_type": "code",
   "execution_count": 1,
   "id": "cc773930",
   "metadata": {},
   "outputs": [],
   "source": [
    "import numpy as np"
   ]
  },
  {
   "cell_type": "markdown",
   "id": "1ad12515",
   "metadata": {},
   "source": [
    "## Creating the Array using numpy"
   ]
  },
  {
   "cell_type": "code",
   "execution_count": 2,
   "id": "0eb8baf5",
   "metadata": {},
   "outputs": [],
   "source": [
    "\n",
    "arra=np.array([[1,2,3],[4,5,6]])\n"
   ]
  },
  {
   "cell_type": "code",
   "execution_count": 3,
   "id": "3df7442b",
   "metadata": {},
   "outputs": [
    {
     "name": "stdout",
     "output_type": "stream",
     "text": [
      "[[1 2 3]\n",
      " [4 5 6]]\n"
     ]
    }
   ],
   "source": [
    "print(arra)"
   ]
  },
  {
   "cell_type": "code",
   "execution_count": 4,
   "id": "1d9569ff",
   "metadata": {},
   "outputs": [
    {
     "data": {
      "text/plain": [
       "2"
      ]
     },
     "execution_count": 4,
     "metadata": {},
     "output_type": "execute_result"
    }
   ],
   "source": [
    "arra.ndim"
   ]
  },
  {
   "cell_type": "code",
   "execution_count": 5,
   "id": "8dbe4ab8",
   "metadata": {},
   "outputs": [
    {
     "data": {
      "text/plain": [
       "(2, 3)"
      ]
     },
     "execution_count": 5,
     "metadata": {},
     "output_type": "execute_result"
    }
   ],
   "source": [
    "arra.shape"
   ]
  },
  {
   "cell_type": "code",
   "execution_count": 6,
   "id": "8b97e714",
   "metadata": {},
   "outputs": [
    {
     "data": {
      "text/plain": [
       "dtype('int32')"
      ]
     },
     "execution_count": 6,
     "metadata": {},
     "output_type": "execute_result"
    }
   ],
   "source": [
    "arra.dtype"
   ]
  },
  {
   "cell_type": "code",
   "execution_count": 7,
   "id": "e4579137",
   "metadata": {},
   "outputs": [],
   "source": [
    "arra[1,1]=34"
   ]
  },
  {
   "cell_type": "code",
   "execution_count": 8,
   "id": "2d868478",
   "metadata": {},
   "outputs": [
    {
     "data": {
      "text/plain": [
       "array([[ 1,  2,  3],\n",
       "       [ 4, 34,  6]])"
      ]
     },
     "execution_count": 8,
     "metadata": {},
     "output_type": "execute_result"
    }
   ],
   "source": [
    "arra"
   ]
  },
  {
   "cell_type": "markdown",
   "id": "c43deee2",
   "metadata": {},
   "source": [
    "## Creating Complex Array"
   ]
  },
  {
   "cell_type": "code",
   "execution_count": 9,
   "id": "ae17a791",
   "metadata": {},
   "outputs": [],
   "source": [
    "arr=np.array([[1,2,3],[4,5,6]],dtype=complex)"
   ]
  },
  {
   "cell_type": "code",
   "execution_count": 10,
   "id": "c7afb582",
   "metadata": {},
   "outputs": [
    {
     "data": {
      "text/plain": [
       "array([[1.+0.j, 2.+0.j, 3.+0.j],\n",
       "       [4.+0.j, 5.+0.j, 6.+0.j]])"
      ]
     },
     "execution_count": 10,
     "metadata": {},
     "output_type": "execute_result"
    }
   ],
   "source": [
    "arr"
   ]
  },
  {
   "cell_type": "code",
   "execution_count": 11,
   "id": "25e288a9",
   "metadata": {},
   "outputs": [
    {
     "data": {
      "text/plain": [
       "4"
      ]
     },
     "execution_count": 11,
     "metadata": {},
     "output_type": "execute_result"
    }
   ],
   "source": [
    "arra.itemsize"
   ]
  },
  {
   "cell_type": "markdown",
   "id": "3b67767f",
   "metadata": {},
   "source": [
    "## Reshape the array"
   ]
  },
  {
   "cell_type": "code",
   "execution_count": 12,
   "id": "1ab32c63",
   "metadata": {},
   "outputs": [],
   "source": [
    "arr=np.array([1,2,3,4,5,6,7,8,9])"
   ]
  },
  {
   "cell_type": "code",
   "execution_count": 13,
   "id": "d497e249",
   "metadata": {},
   "outputs": [
    {
     "name": "stdout",
     "output_type": "stream",
     "text": [
      "[1 2 3 4 5 6 7 8 9]\n"
     ]
    }
   ],
   "source": [
    "print(arr)"
   ]
  },
  {
   "cell_type": "code",
   "execution_count": 14,
   "id": "eb7805f0",
   "metadata": {},
   "outputs": [],
   "source": [
    "ar=arr.reshape((3,3))"
   ]
  },
  {
   "cell_type": "markdown",
   "id": "f66828cd",
   "metadata": {},
   "source": [
    "## Slicing the array"
   ]
  },
  {
   "cell_type": "code",
   "execution_count": 15,
   "id": "cf22f16c",
   "metadata": {},
   "outputs": [
    {
     "name": "stdout",
     "output_type": "stream",
     "text": [
      "[[1 2 3]\n",
      " [4 5 6]\n",
      " [7 8 9]]\n"
     ]
    }
   ],
   "source": [
    "print(ar)"
   ]
  },
  {
   "cell_type": "code",
   "execution_count": 16,
   "id": "f186fd52",
   "metadata": {},
   "outputs": [
    {
     "name": "stdout",
     "output_type": "stream",
     "text": [
      "5\n"
     ]
    }
   ],
   "source": [
    "print(ar[1,1])"
   ]
  },
  {
   "cell_type": "markdown",
   "id": "475a8138",
   "metadata": {},
   "source": [
    "## Lin_space"
   ]
  },
  {
   "cell_type": "code",
   "execution_count": 17,
   "id": "a0dfba49",
   "metadata": {},
   "outputs": [],
   "source": [
    "arr=np.linspace(100,200,10)"
   ]
  },
  {
   "cell_type": "code",
   "execution_count": 18,
   "id": "6d697988",
   "metadata": {},
   "outputs": [
    {
     "name": "stdout",
     "output_type": "stream",
     "text": [
      "[100.         111.11111111 122.22222222 133.33333333 144.44444444\n",
      " 155.55555556 166.66666667 177.77777778 188.88888889 200.        ]\n"
     ]
    }
   ],
   "source": [
    "print(arr)"
   ]
  },
  {
   "cell_type": "code",
   "execution_count": 19,
   "id": "e02490bf",
   "metadata": {},
   "outputs": [
    {
     "data": {
      "text/plain": [
       "200.0"
      ]
     },
     "execution_count": 19,
     "metadata": {},
     "output_type": "execute_result"
    }
   ],
   "source": [
    "arr.max()"
   ]
  },
  {
   "cell_type": "code",
   "execution_count": 20,
   "id": "7b708846",
   "metadata": {},
   "outputs": [
    {
     "data": {
      "text/plain": [
       "100.0"
      ]
     },
     "execution_count": 20,
     "metadata": {},
     "output_type": "execute_result"
    }
   ],
   "source": [
    "arr.min()"
   ]
  },
  {
   "cell_type": "code",
   "execution_count": 21,
   "id": "1211a211",
   "metadata": {},
   "outputs": [
    {
     "data": {
      "text/plain": [
       "1500.0"
      ]
     },
     "execution_count": 21,
     "metadata": {},
     "output_type": "execute_result"
    }
   ],
   "source": [
    "arr.sum()"
   ]
  },
  {
   "cell_type": "code",
   "execution_count": 22,
   "id": "695057ec",
   "metadata": {},
   "outputs": [],
   "source": [
    "arr=np.zeros((3,3),dtype=int)"
   ]
  },
  {
   "cell_type": "code",
   "execution_count": 23,
   "id": "d40a82ac",
   "metadata": {},
   "outputs": [
    {
     "data": {
      "text/plain": [
       "array([[0, 0, 0],\n",
       "       [0, 0, 0],\n",
       "       [0, 0, 0]])"
      ]
     },
     "execution_count": 23,
     "metadata": {},
     "output_type": "execute_result"
    }
   ],
   "source": [
    "arr"
   ]
  },
  {
   "cell_type": "markdown",
   "id": "b609db49",
   "metadata": {},
   "source": [
    "## interating the numpy array"
   ]
  },
  {
   "cell_type": "code",
   "execution_count": 25,
   "id": "72af9217",
   "metadata": {},
   "outputs": [
    {
     "name": "stdout",
     "output_type": "stream",
     "text": [
      "1\n",
      "2\n",
      "3\n",
      "4\n",
      "5\n",
      "6\n",
      "7\n",
      "8\n",
      "9\n"
     ]
    }
   ],
   "source": [
    "for i in np.nditer(ar):\n",
    "    print(i)"
   ]
  },
  {
   "cell_type": "code",
   "execution_count": 26,
   "id": "c69823be",
   "metadata": {},
   "outputs": [
    {
     "name": "stdout",
     "output_type": "stream",
     "text": [
      "[[0 0 0]\n",
      " [0 0 0]\n",
      " [0 0 0]]\n"
     ]
    }
   ],
   "source": [
    "print(arr)"
   ]
  },
  {
   "cell_type": "code",
   "execution_count": 27,
   "id": "46720b4e",
   "metadata": {},
   "outputs": [
    {
     "data": {
      "text/plain": [
       "array([[0, 0, 0],\n",
       "       [0, 0, 0],\n",
       "       [0, 0, 0]])"
      ]
     },
     "execution_count": 27,
     "metadata": {},
     "output_type": "execute_result"
    }
   ],
   "source": [
    "np.around(arr,2)"
   ]
  },
  {
   "cell_type": "code",
   "execution_count": 28,
   "id": "aeeb503f",
   "metadata": {},
   "outputs": [
    {
     "data": {
      "text/plain": [
       "array([[0, 0, 0],\n",
       "       [0, 0, 0],\n",
       "       [0, 0, 0]])"
      ]
     },
     "execution_count": 28,
     "metadata": {},
     "output_type": "execute_result"
    }
   ],
   "source": [
    "np.around(arr,0)"
   ]
  },
  {
   "cell_type": "code",
   "execution_count": 29,
   "id": "9cc1083f",
   "metadata": {},
   "outputs": [
    {
     "data": {
      "text/plain": [
       "array([[0, 0, 0],\n",
       "       [0, 0, 0],\n",
       "       [0, 0, 0]])"
      ]
     },
     "execution_count": 29,
     "metadata": {},
     "output_type": "execute_result"
    }
   ],
   "source": [
    "np.around(arr,-1)"
   ]
  },
  {
   "cell_type": "code",
   "execution_count": null,
   "id": "b43542bb",
   "metadata": {},
   "outputs": [],
   "source": [
    "import numpy\n",
    "\n",
    "def arrays(arr):\n",
    "    ls=[]\n",
    "    for i in reversed(arr):\n",
    "        ls.append(i)\n",
    "    arr=numpy.array(ls,float)\n",
    "    return arr\n",
    "    \n",
    "    \n",
    "arr = input().strip().split(' ')\n",
    "result=arrays(arr)\n",
    "print(result)"
   ]
  },
  {
   "cell_type": "code",
   "execution_count": null,
   "id": "9b698aa4",
   "metadata": {},
   "outputs": [],
   "source": [
    "import numpy as np\n",
    "\n",
    "arr=input().split(\" \")\n",
    "new_array=np.array(arr,int)\n",
    "reshaped_array=new_array.reshape((3,3))\n",
    "print(reshaped_array)"
   ]
  },
  {
   "cell_type": "code",
   "execution_count": null,
   "id": "9d2cc611",
   "metadata": {},
   "outputs": [],
   "source": [
    "import numpy as np\n",
    "\n",
    "n,m=map(int,input().split(\" \"))\n",
    "lst=[]\n",
    "for i in range(n):\n",
    "    a=input().split()\n",
    "    lst.append(a)\n",
    "new_array=np.array(lst,int)\n",
    "print(new_array.T)\n",
    "print(new_array.flatten())\n"
   ]
  },
  {
   "cell_type": "code",
   "execution_count": null,
   "id": "968f409b",
   "metadata": {},
   "outputs": [],
   "source": [
    "import numpy as np\n",
    "n,m,p=map(int,input().split(\" \"))\n",
    "lst1=[]\n",
    "lst2=[]\n",
    "for i in range(n):\n",
    "    a,b=input().split(\" \")\n",
    "    lst1.append([int(a),int(b)])\n",
    "for i in range(m):\n",
    "    a,b=input().split(\" \")\n",
    "    lst2.append([int(a),int(b)])\n",
    "arr1=np.array(lst1)\n",
    "arr2=np.array(lst2)\n",
    "array=np.concatenate((arr1,arr2))\n",
    "print(array)"
   ]
  },
  {
   "cell_type": "code",
   "execution_count": null,
   "id": "88a84afd",
   "metadata": {},
   "outputs": [],
   "source": [
    "import numpy as np\n",
    "a,b,c=map(int,input().split(\" \"))\n",
    "arr1=np.zeros((a,b),dtype=int)\n",
    "arr2=np.ones((a,b),dtype=int)\n",
    "z=[]\n",
    "o=[]\n",
    "for i in range(c):\n",
    "    z.append(arr1)\n",
    "    o.append(arr2)\n",
    "array_of_zeros=np.array(z)\n",
    "array_of_ones=np.array(o)\n",
    "print(array_of_zeros,array_of_ones,sep=\"\\n\")\n",
    "\n",
    "# for i in range(c):\n",
    "#     print(z[i])\n",
    "# for i in range(c):\n",
    "#     print(o[i])"
   ]
  },
  {
   "cell_type": "markdown",
   "id": "20443801",
   "metadata": {},
   "source": [
    "## Random Module in Numpy"
   ]
  },
  {
   "cell_type": "code",
   "execution_count": 31,
   "id": "700b089a",
   "metadata": {},
   "outputs": [
    {
     "data": {
      "text/plain": [
       "array([-0.00838043,  0.12753693, -0.43907418,  0.07517184, -1.83537959,\n",
       "       -0.02471498,  0.03013122, -0.15282722,  1.35940801,  0.34385396,\n",
       "        1.33491521,  0.71562998])"
      ]
     },
     "execution_count": 31,
     "metadata": {},
     "output_type": "execute_result"
    }
   ],
   "source": [
    "import numpy as np\n",
    "var=np.random.randn(12)\n",
    "var"
   ]
  },
  {
   "cell_type": "code",
   "execution_count": 33,
   "id": "31dd93c0",
   "metadata": {},
   "outputs": [
    {
     "data": {
      "text/plain": [
       "array([[-0.08536137,  0.9609909 ,  0.39653428],\n",
       "       [ 0.65170463, -0.87137259,  0.70144508]])"
      ]
     },
     "execution_count": 33,
     "metadata": {},
     "output_type": "execute_result"
    }
   ],
   "source": [
    "var=np.random.randn(2,3)\n",
    "var"
   ]
  },
  {
   "cell_type": "code",
   "execution_count": 34,
   "id": "dad3e198",
   "metadata": {},
   "outputs": [
    {
     "data": {
      "text/plain": [
       "numpy.ndarray"
      ]
     },
     "execution_count": 34,
     "metadata": {},
     "output_type": "execute_result"
    }
   ],
   "source": [
    "type(var)"
   ]
  },
  {
   "cell_type": "code",
   "execution_count": 35,
   "id": "e2cc2b40",
   "metadata": {},
   "outputs": [
    {
     "data": {
      "text/plain": [
       "(2, 3)"
      ]
     },
     "execution_count": 35,
     "metadata": {},
     "output_type": "execute_result"
    }
   ],
   "source": [
    "var.shape"
   ]
  },
  {
   "cell_type": "code",
   "execution_count": 36,
   "id": "0dfcc69a",
   "metadata": {},
   "outputs": [
    {
     "data": {
      "text/plain": [
       "6"
      ]
     },
     "execution_count": 36,
     "metadata": {},
     "output_type": "execute_result"
    }
   ],
   "source": [
    "var.size"
   ]
  },
  {
   "cell_type": "code",
   "execution_count": 37,
   "id": "9f9b4356",
   "metadata": {},
   "outputs": [
    {
     "data": {
      "text/plain": [
       "2"
      ]
     },
     "execution_count": 37,
     "metadata": {},
     "output_type": "execute_result"
    }
   ],
   "source": [
    "var.ndim"
   ]
  },
  {
   "cell_type": "code",
   "execution_count": 40,
   "id": "bb19f501",
   "metadata": {},
   "outputs": [
    {
     "name": "stdout",
     "output_type": "stream",
     "text": [
      "0\n",
      "0\n",
      "0\n",
      "0\n",
      "0\n",
      "0\n"
     ]
    }
   ],
   "source": [
    "for i in var.flat:\n",
    "    print(int(i))"
   ]
  },
  {
   "cell_type": "code",
   "execution_count": 42,
   "id": "a466f58a",
   "metadata": {},
   "outputs": [
    {
     "data": {
      "text/plain": [
       "array([ 7, 15, 12, 14,  4, 14,  7, 10, 16, 19])"
      ]
     },
     "execution_count": 42,
     "metadata": {},
     "output_type": "execute_result"
    }
   ],
   "source": [
    "var=np.random.randint(2,20,10)\n",
    "var"
   ]
  },
  {
   "cell_type": "code",
   "execution_count": 44,
   "id": "ee130426",
   "metadata": {},
   "outputs": [
    {
     "name": "stdout",
     "output_type": "stream",
     "text": [
      "None\n"
     ]
    }
   ],
   "source": [
    "print(var.sort())"
   ]
  },
  {
   "cell_type": "code",
   "execution_count": 45,
   "id": "58009bd6",
   "metadata": {},
   "outputs": [
    {
     "data": {
      "text/plain": [
       "<function ndarray.sort>"
      ]
     },
     "execution_count": 45,
     "metadata": {},
     "output_type": "execute_result"
    }
   ],
   "source": [
    "var.sort"
   ]
  },
  {
   "cell_type": "code",
   "execution_count": 46,
   "id": "c76ac7bf",
   "metadata": {},
   "outputs": [
    {
     "data": {
      "text/plain": [
       "array([ 4,  7,  7, 10, 12, 14, 14, 15, 16, 19])"
      ]
     },
     "execution_count": 46,
     "metadata": {},
     "output_type": "execute_result"
    }
   ],
   "source": [
    "np.sort(var)"
   ]
  },
  {
   "cell_type": "markdown",
   "id": "b755daf8",
   "metadata": {},
   "source": [
    "## Joining the 2 Arrays"
   ]
  },
  {
   "cell_type": "code",
   "execution_count": 60,
   "id": "326e0475",
   "metadata": {},
   "outputs": [
    {
     "name": "stderr",
     "output_type": "stream",
     "text": [
      "C:\\Users\\asus\\AppData\\Local\\Temp\\ipykernel_9004\\3294047967.py:1: VisibleDeprecationWarning: Creating an ndarray from ragged nested sequences (which is a list-or-tuple of lists-or-tuples-or ndarrays with different lengths or shapes) is deprecated. If you meant to do this, you must specify 'dtype=object' when creating the ndarray.\n",
      "  array1=np.array([[1,2,3,4],[7,8,9]])\n"
     ]
    },
    {
     "data": {
      "text/plain": [
       "array([list([1, 2, 3, 4]), list([7, 8, 9]), 5, 6, 7, 8], dtype=object)"
      ]
     },
     "execution_count": 60,
     "metadata": {},
     "output_type": "execute_result"
    }
   ],
   "source": [
    "array1=np.array([[1,2,3,4],[7,8,9]])\n",
    "array2=np.array([5,6,7,8])\n",
    "arr=np.concatenate((array1,array2))\n",
    "arr"
   ]
  },
  {
   "cell_type": "markdown",
   "id": "7c07c1c6",
   "metadata": {},
   "source": [
    "## inserting and deletion"
   ]
  },
  {
   "cell_type": "code",
   "execution_count": 61,
   "id": "cd02e978",
   "metadata": {},
   "outputs": [
    {
     "data": {
      "text/plain": [
       "array([list([1, 2, 3, 4]), list([7, 8, 9])], dtype=object)"
      ]
     },
     "execution_count": 61,
     "metadata": {},
     "output_type": "execute_result"
    }
   ],
   "source": [
    "array1"
   ]
  },
  {
   "cell_type": "code",
   "execution_count": 65,
   "id": "cc80b3c5",
   "metadata": {},
   "outputs": [
    {
     "data": {
      "text/plain": [
       "array([[1, 2, 3],\n",
       "       [4, 5, 6]])"
      ]
     },
     "execution_count": 65,
     "metadata": {},
     "output_type": "execute_result"
    }
   ],
   "source": [
    "arr=np.array([[1,2,3],[4,5,6]])\n",
    "arr"
   ]
  },
  {
   "cell_type": "code",
   "execution_count": 69,
   "id": "59a69fdb",
   "metadata": {},
   "outputs": [
    {
     "data": {
      "text/plain": [
       "array([1, 2, 3, 3, 4, 5, 6])"
      ]
     },
     "execution_count": 69,
     "metadata": {},
     "output_type": "execute_result"
    }
   ],
   "source": [
    "np.insert(arr,2,3)"
   ]
  },
  {
   "cell_type": "code",
   "execution_count": 77,
   "id": "656104d2",
   "metadata": {},
   "outputs": [
    {
     "data": {
      "text/plain": [
       "array([1, 2, 3, 4, 5])"
      ]
     },
     "execution_count": 77,
     "metadata": {},
     "output_type": "execute_result"
    }
   ],
   "source": [
    "np.delete(arr,5)"
   ]
  },
  {
   "cell_type": "code",
   "execution_count": 72,
   "id": "c3f59946",
   "metadata": {},
   "outputs": [
    {
     "data": {
      "text/plain": [
       "array([[1, 2, 3],\n",
       "       [4, 5, 6]])"
      ]
     },
     "execution_count": 72,
     "metadata": {},
     "output_type": "execute_result"
    }
   ],
   "source": [
    "arr"
   ]
  },
  {
   "cell_type": "markdown",
   "id": "c0d991fd",
   "metadata": {},
   "source": [
    "## matrix in Numpy"
   ]
  },
  {
   "cell_type": "code",
   "execution_count": 78,
   "id": "73bf485a",
   "metadata": {},
   "outputs": [],
   "source": [
    "import numpy as np"
   ]
  },
  {
   "cell_type": "code",
   "execution_count": 79,
   "id": "2f5b339f",
   "metadata": {},
   "outputs": [
    {
     "data": {
      "text/plain": [
       "array([[1, 2, 3],\n",
       "       [4, 5, 6]])"
      ]
     },
     "execution_count": 79,
     "metadata": {},
     "output_type": "execute_result"
    }
   ],
   "source": [
    "arr"
   ]
  },
  {
   "cell_type": "code",
   "execution_count": 80,
   "id": "d729bcb7",
   "metadata": {},
   "outputs": [
    {
     "data": {
      "text/plain": [
       "array([[1, 4],\n",
       "       [2, 5],\n",
       "       [3, 6]])"
      ]
     },
     "execution_count": 80,
     "metadata": {},
     "output_type": "execute_result"
    }
   ],
   "source": [
    "arr.T"
   ]
  },
  {
   "cell_type": "markdown",
   "id": "6eb12057",
   "metadata": {},
   "source": [
    "#### It's not recommended to use the matrix class as it will be removed from the future\n",
    "source : numpy original docs says\n",
    "###### so we will be using the arrays only  to demonstrate the matrix"
   ]
  },
  {
   "cell_type": "markdown",
   "id": "9c8a6519",
   "metadata": {},
   "source": [
    "## Linear Algebra using Numpy"
   ]
  },
  {
   "cell_type": "code",
   "execution_count": 81,
   "id": "653aeb8d",
   "metadata": {},
   "outputs": [],
   "source": [
    "arr=np.array([[1,2,3],[4,5,6]])"
   ]
  },
  {
   "cell_type": "code",
   "execution_count": 82,
   "id": "8e8e5b21",
   "metadata": {},
   "outputs": [
    {
     "data": {
      "text/plain": [
       "array([[1, 2, 3],\n",
       "       [4, 5, 6]])"
      ]
     },
     "execution_count": 82,
     "metadata": {},
     "output_type": "execute_result"
    }
   ],
   "source": [
    "arr"
   ]
  },
  {
   "cell_type": "code",
   "execution_count": 84,
   "id": "8bfe8601",
   "metadata": {},
   "outputs": [],
   "source": [
    "arr2=np.array([[11,22,33],[44,55,66]])"
   ]
  },
  {
   "cell_type": "code",
   "execution_count": 85,
   "id": "01c2a508",
   "metadata": {},
   "outputs": [
    {
     "data": {
      "text/plain": [
       "array([[11, 22, 33],\n",
       "       [44, 55, 66]])"
      ]
     },
     "execution_count": 85,
     "metadata": {},
     "output_type": "execute_result"
    }
   ],
   "source": [
    "arr2"
   ]
  },
  {
   "cell_type": "code",
   "execution_count": 91,
   "id": "4c326693",
   "metadata": {},
   "outputs": [
    {
     "data": {
      "text/plain": [
       "32"
      ]
     },
     "execution_count": 91,
     "metadata": {},
     "output_type": "execute_result"
    }
   ],
   "source": [
    "np.dot(arr[0],arr[1])"
   ]
  },
  {
   "cell_type": "code",
   "execution_count": 90,
   "id": "fd34e543",
   "metadata": {},
   "outputs": [
    {
     "data": {
      "text/plain": [
       "array([1, 2, 3])"
      ]
     },
     "execution_count": 90,
     "metadata": {},
     "output_type": "execute_result"
    }
   ],
   "source": [
    "arr[0]"
   ]
  },
  {
   "cell_type": "code",
   "execution_count": 93,
   "id": "dffd1158",
   "metadata": {},
   "outputs": [
    {
     "ename": "LinAlgError",
     "evalue": "Last 2 dimensions of the array must be square",
     "output_type": "error",
     "traceback": [
      "\u001b[1;31m---------------------------------------------------------------------------\u001b[0m",
      "\u001b[1;31mLinAlgError\u001b[0m                               Traceback (most recent call last)",
      "Input \u001b[1;32mIn [93]\u001b[0m, in \u001b[0;36m<cell line: 1>\u001b[1;34m()\u001b[0m\n\u001b[1;32m----> 1\u001b[0m \u001b[43mnp\u001b[49m\u001b[38;5;241;43m.\u001b[39;49m\u001b[43mlinalg\u001b[49m\u001b[38;5;241;43m.\u001b[39;49m\u001b[43mdet\u001b[49m\u001b[43m(\u001b[49m\u001b[43marr\u001b[49m\u001b[43m)\u001b[49m\n",
      "File \u001b[1;32m<__array_function__ internals>:180\u001b[0m, in \u001b[0;36mdet\u001b[1;34m(*args, **kwargs)\u001b[0m\n",
      "File \u001b[1;32m~\\AppData\\Roaming\\Python\\Python39\\site-packages\\numpy\\linalg\\linalg.py:2151\u001b[0m, in \u001b[0;36mdet\u001b[1;34m(a)\u001b[0m\n\u001b[0;32m   2149\u001b[0m a \u001b[38;5;241m=\u001b[39m asarray(a)\n\u001b[0;32m   2150\u001b[0m _assert_stacked_2d(a)\n\u001b[1;32m-> 2151\u001b[0m \u001b[43m_assert_stacked_square\u001b[49m\u001b[43m(\u001b[49m\u001b[43ma\u001b[49m\u001b[43m)\u001b[49m\n\u001b[0;32m   2152\u001b[0m t, result_t \u001b[38;5;241m=\u001b[39m _commonType(a)\n\u001b[0;32m   2153\u001b[0m signature \u001b[38;5;241m=\u001b[39m \u001b[38;5;124m'\u001b[39m\u001b[38;5;124mD->D\u001b[39m\u001b[38;5;124m'\u001b[39m \u001b[38;5;28;01mif\u001b[39;00m isComplexType(t) \u001b[38;5;28;01melse\u001b[39;00m \u001b[38;5;124m'\u001b[39m\u001b[38;5;124md->d\u001b[39m\u001b[38;5;124m'\u001b[39m\n",
      "File \u001b[1;32m~\\AppData\\Roaming\\Python\\Python39\\site-packages\\numpy\\linalg\\linalg.py:204\u001b[0m, in \u001b[0;36m_assert_stacked_square\u001b[1;34m(*arrays)\u001b[0m\n\u001b[0;32m    202\u001b[0m m, n \u001b[38;5;241m=\u001b[39m a\u001b[38;5;241m.\u001b[39mshape[\u001b[38;5;241m-\u001b[39m\u001b[38;5;241m2\u001b[39m:]\n\u001b[0;32m    203\u001b[0m \u001b[38;5;28;01mif\u001b[39;00m m \u001b[38;5;241m!=\u001b[39m n:\n\u001b[1;32m--> 204\u001b[0m     \u001b[38;5;28;01mraise\u001b[39;00m LinAlgError(\u001b[38;5;124m'\u001b[39m\u001b[38;5;124mLast 2 dimensions of the array must be square\u001b[39m\u001b[38;5;124m'\u001b[39m)\n",
      "\u001b[1;31mLinAlgError\u001b[0m: Last 2 dimensions of the array must be square"
     ]
    }
   ],
   "source": [
    "np.linalg.det(arr)"
   ]
  },
  {
   "cell_type": "code",
   "execution_count": null,
   "id": "84dec181",
   "metadata": {},
   "outputs": [],
   "source": []
  }
 ],
 "metadata": {
  "kernelspec": {
   "display_name": "Python 3 (ipykernel)",
   "language": "python",
   "name": "python3"
  },
  "language_info": {
   "codemirror_mode": {
    "name": "ipython",
    "version": 3
   },
   "file_extension": ".py",
   "mimetype": "text/x-python",
   "name": "python",
   "nbconvert_exporter": "python",
   "pygments_lexer": "ipython3",
   "version": "3.9.12"
  }
 },
 "nbformat": 4,
 "nbformat_minor": 5
}
