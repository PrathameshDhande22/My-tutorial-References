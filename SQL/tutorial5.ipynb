{
 "cells": [
  {
   "attachments": {},
   "cell_type": "markdown",
   "metadata": {},
   "source": [
    "# Python Mysql Connector\n",
    "\n",
    "Tutorial on python mysql connector\n"
   ]
  },
  {
   "attachments": {},
   "cell_type": "markdown",
   "metadata": {},
   "source": [
    "installing the module"
   ]
  },
  {
   "cell_type": "code",
   "execution_count": 2,
   "metadata": {},
   "outputs": [
    {
     "name": "stdout",
     "output_type": "stream",
     "text": [
      "Defaulting to user installation because normal site-packages is not writeable\n",
      "Requirement already satisfied: mysql-connector-python in c:\\users\\asus\\appdata\\roaming\\python\\python310\\site-packages (8.0.31)\n",
      "Requirement already satisfied: protobuf<=3.20.1,>=3.11.0 in c:\\users\\asus\\appdata\\roaming\\python\\python310\\site-packages (from mysql-connector-python) (3.20.1)\n",
      "Note: you may need to restart the kernel to use updated packages.\n"
     ]
    },
    {
     "name": "stderr",
     "output_type": "stream",
     "text": [
      "WARNING: You are using pip version 22.0.4; however, version 23.1.2 is available.\n",
      "You should consider upgrading via the 'c:\\Program Files\\Python310\\python.exe -m pip install --upgrade pip' command.\n"
     ]
    },
    {
     "name": "stdout",
     "output_type": "stream",
     "text": [
      "Defaulting to user installation because normal site-packages is not writeable\n",
      "Collecting mysql.connector\n",
      "  Downloading mysql-connector-2.2.9.tar.gz (11.9 MB)\n",
      "     -------------------------------------- 11.9/11.9 MB 103.3 kB/s eta 0:00:00\n",
      "  Preparing metadata (setup.py): started\n",
      "  Preparing metadata (setup.py): finished with status 'done'\n",
      "Using legacy 'setup.py install' for mysql.connector, since package 'wheel' is not installed.\n",
      "Installing collected packages: mysql.connector\n",
      "  Running setup.py install for mysql.connector: started\n",
      "  Running setup.py install for mysql.connector: finished with status 'done'\n",
      "Successfully installed mysql.connector-2.2.9\n"
     ]
    },
    {
     "name": "stderr",
     "output_type": "stream",
     "text": [
      "WARNING: You are using pip version 22.0.4; however, version 23.1.2 is available.\n",
      "You should consider upgrading via the 'c:\\Program Files\\Python310\\python.exe -m pip install --upgrade pip' command.\n"
     ]
    }
   ],
   "source": [
    "pip install mysql-connector-python"
   ]
  },
  {
   "attachments": {},
   "cell_type": "markdown",
   "metadata": {},
   "source": [
    "Importing the module"
   ]
  },
  {
   "cell_type": "code",
   "execution_count": 35,
   "metadata": {},
   "outputs": [],
   "source": [
    "from mysql.connector import MySQLConnection\n",
    "from mysql.connector import cursor"
   ]
  },
  {
   "attachments": {},
   "cell_type": "markdown",
   "metadata": {},
   "source": [
    "Creating the Connection"
   ]
  },
  {
   "cell_type": "code",
   "execution_count": 36,
   "metadata": {},
   "outputs": [],
   "source": [
    "conn=MySQLConnection(user=\"root\",password=\"prathamesh\",database=\"tutorial\")"
   ]
  },
  {
   "attachments": {},
   "cell_type": "markdown",
   "metadata": {},
   "source": [
    "Check If connection is created"
   ]
  },
  {
   "cell_type": "code",
   "execution_count": 37,
   "metadata": {},
   "outputs": [
    {
     "data": {
      "text/plain": [
       "True"
      ]
     },
     "execution_count": 37,
     "metadata": {},
     "output_type": "execute_result"
    }
   ],
   "source": [
    "conn.is_connected()"
   ]
  },
  {
   "attachments": {},
   "cell_type": "markdown",
   "metadata": {},
   "source": [
    "Creating the cursor which can help for Executing the query"
   ]
  },
  {
   "cell_type": "code",
   "execution_count": 38,
   "metadata": {},
   "outputs": [],
   "source": [
    "cur=conn.cursor()\n"
   ]
  },
  {
   "attachments": {},
   "cell_type": "markdown",
   "metadata": {},
   "source": [
    "Executing the Query"
   ]
  },
  {
   "cell_type": "code",
   "execution_count": 39,
   "metadata": {},
   "outputs": [],
   "source": [
    "cur.execute(\"select * from employee\")\n",
    "data=cur.fetchall()"
   ]
  },
  {
   "cell_type": "code",
   "execution_count": 40,
   "metadata": {},
   "outputs": [
    {
     "name": "stdout",
     "output_type": "stream",
     "text": [
      "[(1223, 'STEVE', 'BORN', 'SALESMAN', '4503', datetime.date(1880, 2, 3), 1000, 0, 10, 0), (9369, 'TONY', 'STARK', 'SOFTWARE ENGINEER', '7902', datetime.date(1980, 12, 17), 2800, 0, 20, 21), (9499, 'TIM', 'ADOLF', 'SALESMAN', '7698', datetime.date(1981, 2, 20), 1600, 300, 30, 0), (9566, 'KIM', 'JARVIS', 'MANAGER', '7839', datetime.date(1981, 4, 2), 3570, 0, 20, 0), (9591, 'WENDY', 'SHAWN', 'SALESMAN', '7698', datetime.date(1981, 2, 22), 500, 0, 30, 0), (9654, 'SAM', 'MILES', 'SALESMAN', '7698', datetime.date(1981, 9, 28), 1250, 1400, 30, 0), (9698, 'BELLA', 'SWAN', 'MANAGER', '7839', datetime.date(1981, 5, 1), 3420, 0, 30, 0), (9777, 'MADII', 'HIMBURY', 'ANALYST', '7839', datetime.date(1981, 5, 1), 2000, 200, None, 0), (9782, 'KEVIN', 'HILL', 'MANAGER', '7839', datetime.date(1981, 6, 9), 2940, 0, 10, 0), (9788, 'CONNIE', 'SMITH', 'ANALYST', '7566', datetime.date(1982, 12, 9), 3000, 0, 20, 0), (9839, 'ALFRED', 'KINSLEY', 'PRESIDENT', '7566', datetime.date(1981, 11, 17), 5000, 0, 10, 0), (9844, 'PAUL', 'TIMOTHY', 'SALESMAN', '7698', datetime.date(1981, 9, 8), 1500, 0, 30, 0), (9860, 'ATHENA', 'WILSON', 'ANALYST', '7839', datetime.date(1992, 6, 21), 7000, 100, 50, 0), (9861, 'JENNIFER', 'HUETTE', 'ANALYST', '7839', datetime.date(1996, 7, 1), 5000, 100, 50, 0), (9876, 'JOHN', 'ASGHAR', 'SOFTWARE ENGINEER', '7788', datetime.date(1983, 1, 12), 3100, 0, 20, 1), (9900, 'ROSE', 'SUMMERS', 'TECHNICAL LEAD', '7698', datetime.date(1981, 12, 3), 2950, 0, 20, 0), (9902, 'ANDREW', 'FAULKNER', 'ANAYLYST', '7566', datetime.date(1981, 12, 3), 3000, 0, 10, 0), (9934, 'KAREN', 'MATTHEWS', 'SOFTWARE ENGINEER', '7782', datetime.date(1982, 1, 23), 3300, 0, 20, 0)]\n"
     ]
    }
   ],
   "source": [
    "print(data)"
   ]
  },
  {
   "cell_type": "code",
   "execution_count": 41,
   "metadata": {},
   "outputs": [
    {
     "name": "stdout",
     "output_type": "stream",
     "text": [
      "(1223, 'STEVE', 'BORN', 'SALESMAN', '4503', datetime.date(1880, 2, 3), 1000, 0, 10, 0)\n",
      "(9369, 'TONY', 'STARK', 'SOFTWARE ENGINEER', '7902', datetime.date(1980, 12, 17), 2800, 0, 20, 21)\n",
      "(9499, 'TIM', 'ADOLF', 'SALESMAN', '7698', datetime.date(1981, 2, 20), 1600, 300, 30, 0)\n",
      "(9566, 'KIM', 'JARVIS', 'MANAGER', '7839', datetime.date(1981, 4, 2), 3570, 0, 20, 0)\n",
      "(9591, 'WENDY', 'SHAWN', 'SALESMAN', '7698', datetime.date(1981, 2, 22), 500, 0, 30, 0)\n",
      "(9654, 'SAM', 'MILES', 'SALESMAN', '7698', datetime.date(1981, 9, 28), 1250, 1400, 30, 0)\n",
      "(9698, 'BELLA', 'SWAN', 'MANAGER', '7839', datetime.date(1981, 5, 1), 3420, 0, 30, 0)\n",
      "(9777, 'MADII', 'HIMBURY', 'ANALYST', '7839', datetime.date(1981, 5, 1), 2000, 200, None, 0)\n",
      "(9782, 'KEVIN', 'HILL', 'MANAGER', '7839', datetime.date(1981, 6, 9), 2940, 0, 10, 0)\n",
      "(9788, 'CONNIE', 'SMITH', 'ANALYST', '7566', datetime.date(1982, 12, 9), 3000, 0, 20, 0)\n",
      "(9839, 'ALFRED', 'KINSLEY', 'PRESIDENT', '7566', datetime.date(1981, 11, 17), 5000, 0, 10, 0)\n",
      "(9844, 'PAUL', 'TIMOTHY', 'SALESMAN', '7698', datetime.date(1981, 9, 8), 1500, 0, 30, 0)\n",
      "(9860, 'ATHENA', 'WILSON', 'ANALYST', '7839', datetime.date(1992, 6, 21), 7000, 100, 50, 0)\n",
      "(9861, 'JENNIFER', 'HUETTE', 'ANALYST', '7839', datetime.date(1996, 7, 1), 5000, 100, 50, 0)\n",
      "(9876, 'JOHN', 'ASGHAR', 'SOFTWARE ENGINEER', '7788', datetime.date(1983, 1, 12), 3100, 0, 20, 1)\n",
      "(9900, 'ROSE', 'SUMMERS', 'TECHNICAL LEAD', '7698', datetime.date(1981, 12, 3), 2950, 0, 20, 0)\n",
      "(9902, 'ANDREW', 'FAULKNER', 'ANAYLYST', '7566', datetime.date(1981, 12, 3), 3000, 0, 10, 0)\n",
      "(9934, 'KAREN', 'MATTHEWS', 'SOFTWARE ENGINEER', '7782', datetime.date(1982, 1, 23), 3300, 0, 20, 0)\n"
     ]
    }
   ],
   "source": [
    "for s in data:\n",
    "    print(s)"
   ]
  },
  {
   "attachments": {},
   "cell_type": "markdown",
   "metadata": {},
   "source": [
    "Inserting the data in the table"
   ]
  },
  {
   "cell_type": "code",
   "execution_count": 42,
   "metadata": {},
   "outputs": [
    {
     "ename": "IntegrityError",
     "evalue": "1062 (23000): Duplicate entry '6' for key 'example.PRIMARY'",
     "output_type": "error",
     "traceback": [
      "\u001b[1;31m---------------------------------------------------------------------------\u001b[0m",
      "\u001b[1;31mIntegrityError\u001b[0m                            Traceback (most recent call last)",
      "Cell \u001b[1;32mIn[42], line 1\u001b[0m\n\u001b[1;32m----> 1\u001b[0m cur\u001b[39m.\u001b[39;49mexecutemany(\u001b[39m\"\u001b[39;49m\u001b[39minsert into example value (\u001b[39;49m\u001b[39m%s\u001b[39;49;00m\u001b[39m,\u001b[39;49m\u001b[39m%s\u001b[39;49;00m\u001b[39m)\u001b[39;49m\u001b[39m\"\u001b[39;49m,[(\u001b[39m6\u001b[39;49m,\u001b[39m\"\u001b[39;49m\u001b[39mHet\u001b[39;49m\u001b[39m\"\u001b[39;49m),(\u001b[39m8\u001b[39;49m,\u001b[39m\"\u001b[39;49m\u001b[39mNidhi\u001b[39;49m\u001b[39m\"\u001b[39;49m)])\n\u001b[0;32m      2\u001b[0m conn\u001b[39m.\u001b[39mcommit()\n",
      "File \u001b[1;32m~\\AppData\\Roaming\\Python\\Python310\\site-packages\\mysql\\connector\\cursor.py:671\u001b[0m, in \u001b[0;36mMySQLCursor.executemany\u001b[1;34m(self, operation, seq_params)\u001b[0m\n\u001b[0;32m    669\u001b[0m \u001b[39mtry\u001b[39;00m:\n\u001b[0;32m    670\u001b[0m     \u001b[39mfor\u001b[39;00m params \u001b[39min\u001b[39;00m seq_params:\n\u001b[1;32m--> 671\u001b[0m         \u001b[39mself\u001b[39;49m\u001b[39m.\u001b[39;49mexecute(operation, params)\n\u001b[0;32m    672\u001b[0m         \u001b[39mif\u001b[39;00m \u001b[39mself\u001b[39m\u001b[39m.\u001b[39mwith_rows \u001b[39mand\u001b[39;00m \u001b[39mself\u001b[39m\u001b[39m.\u001b[39m_have_unread_result():\n\u001b[0;32m    673\u001b[0m             \u001b[39mself\u001b[39m\u001b[39m.\u001b[39mfetchall()\n",
      "File \u001b[1;32m~\\AppData\\Roaming\\Python\\Python310\\site-packages\\mysql\\connector\\cursor.py:564\u001b[0m, in \u001b[0;36mMySQLCursor.execute\u001b[1;34m(self, operation, params, multi)\u001b[0m\n\u001b[0;32m    561\u001b[0m     \u001b[39mreturn\u001b[39;00m \u001b[39mself\u001b[39m\u001b[39m.\u001b[39m_execute_iter(\u001b[39mself\u001b[39m\u001b[39m.\u001b[39m_connection\u001b[39m.\u001b[39mcmd_query_iter(stmt))\n\u001b[0;32m    563\u001b[0m \u001b[39mtry\u001b[39;00m:\n\u001b[1;32m--> 564\u001b[0m     \u001b[39mself\u001b[39m\u001b[39m.\u001b[39m_handle_result(\u001b[39mself\u001b[39;49m\u001b[39m.\u001b[39;49m_connection\u001b[39m.\u001b[39;49mcmd_query(stmt))\n\u001b[0;32m    565\u001b[0m \u001b[39mexcept\u001b[39;00m InterfaceError \u001b[39mas\u001b[39;00m err:\n\u001b[0;32m    566\u001b[0m     \u001b[39mif\u001b[39;00m \u001b[39mself\u001b[39m\u001b[39m.\u001b[39m_connection\u001b[39m.\u001b[39mhave_next_result:\n",
      "File \u001b[1;32m~\\AppData\\Roaming\\Python\\Python310\\site-packages\\mysql\\connector\\connection.py:990\u001b[0m, in \u001b[0;36mMySQLConnection.cmd_query\u001b[1;34m(self, query, raw, buffered, raw_as_string)\u001b[0m\n\u001b[0;32m    988\u001b[0m query \u001b[39m=\u001b[39m \u001b[39mbytes\u001b[39m(packet)\n\u001b[0;32m    989\u001b[0m \u001b[39mtry\u001b[39;00m:\n\u001b[1;32m--> 990\u001b[0m     result \u001b[39m=\u001b[39m \u001b[39mself\u001b[39;49m\u001b[39m.\u001b[39;49m_handle_result(\u001b[39mself\u001b[39;49m\u001b[39m.\u001b[39;49m_send_cmd(ServerCmd\u001b[39m.\u001b[39;49mQUERY, query))\n\u001b[0;32m    991\u001b[0m \u001b[39mexcept\u001b[39;00m ProgrammingError \u001b[39mas\u001b[39;00m err:\n\u001b[0;32m    992\u001b[0m     \u001b[39mif\u001b[39;00m err\u001b[39m.\u001b[39merrno \u001b[39m==\u001b[39m \u001b[39m3948\u001b[39m \u001b[39mand\u001b[39;00m \u001b[39m\"\u001b[39m\u001b[39mLoading local data is disabled\u001b[39m\u001b[39m\"\u001b[39m \u001b[39min\u001b[39;00m err\u001b[39m.\u001b[39mmsg:\n",
      "File \u001b[1;32m~\\AppData\\Roaming\\Python\\Python310\\site-packages\\mysql\\connector\\connection.py:784\u001b[0m, in \u001b[0;36mMySQLConnection._handle_result\u001b[1;34m(self, packet)\u001b[0m\n\u001b[0;32m    782\u001b[0m     \u001b[39mreturn\u001b[39;00m \u001b[39mself\u001b[39m\u001b[39m.\u001b[39m_handle_eof(packet)\n\u001b[0;32m    783\u001b[0m \u001b[39mif\u001b[39;00m packet[\u001b[39m4\u001b[39m] \u001b[39m==\u001b[39m \u001b[39m255\u001b[39m:\n\u001b[1;32m--> 784\u001b[0m     \u001b[39mraise\u001b[39;00m get_exception(packet)\n\u001b[0;32m    786\u001b[0m \u001b[39m# We have a text result set\u001b[39;00m\n\u001b[0;32m    787\u001b[0m column_count \u001b[39m=\u001b[39m \u001b[39mself\u001b[39m\u001b[39m.\u001b[39m_protocol\u001b[39m.\u001b[39mparse_column_count(packet)\n",
      "\u001b[1;31mIntegrityError\u001b[0m: 1062 (23000): Duplicate entry '6' for key 'example.PRIMARY'"
     ]
    }
   ],
   "source": [
    "cur.executemany(\"insert into example value (%s,%s)\",[(6,\"Het\"),(8,\"Nidhi\")])\n",
    "conn.commit()"
   ]
  },
  {
   "attachments": {},
   "cell_type": "markdown",
   "metadata": {},
   "source": [
    "Counts the row inserted"
   ]
  },
  {
   "cell_type": "code",
   "execution_count": 43,
   "metadata": {},
   "outputs": [
    {
     "data": {
      "text/plain": [
       "-1"
      ]
     },
     "execution_count": 43,
     "metadata": {},
     "output_type": "execute_result"
    }
   ],
   "source": [
    "cur.rowcount"
   ]
  },
  {
   "attachments": {},
   "cell_type": "markdown",
   "metadata": {},
   "source": [
    "Calling the Procedure"
   ]
  },
  {
   "cell_type": "code",
   "execution_count": 45,
   "metadata": {},
   "outputs": [],
   "source": [
    "datas=cur.callproc(\"getSalarybyjob\",(\"Salesman\",0))"
   ]
  },
  {
   "cell_type": "code",
   "execution_count": 46,
   "metadata": {},
   "outputs": [
    {
     "name": "stdout",
     "output_type": "stream",
     "text": [
      "('Salesman', 5850)\n"
     ]
    }
   ],
   "source": [
    "print(datas)"
   ]
  },
  {
   "attachments": {},
   "cell_type": "markdown",
   "metadata": {},
   "source": [
    "Get the Current Statement"
   ]
  },
  {
   "cell_type": "code",
   "execution_count": 47,
   "metadata": {},
   "outputs": [
    {
     "data": {
      "text/plain": [
       "'SELECT @_getSalarybyjob_arg1 AS getSalarybyjob_arg1,@_getSalarybyjob_arg2 AS getSalarybyjob_arg2'"
      ]
     },
     "execution_count": 47,
     "metadata": {},
     "output_type": "execute_result"
    }
   ],
   "source": [
    "cur.statement"
   ]
  },
  {
   "attachments": {},
   "cell_type": "markdown",
   "metadata": {},
   "source": [
    "Get the Column Name"
   ]
  },
  {
   "cell_type": "code",
   "execution_count": 48,
   "metadata": {},
   "outputs": [
    {
     "data": {
      "text/plain": [
       "('getSalarybyjob_arg1', 'getSalarybyjob_arg2')"
      ]
     },
     "execution_count": 48,
     "metadata": {},
     "output_type": "execute_result"
    }
   ],
   "source": [
    "cur.column_names"
   ]
  },
  {
   "attachments": {},
   "cell_type": "markdown",
   "metadata": {},
   "source": [
    "Close the Connection"
   ]
  },
  {
   "cell_type": "code",
   "execution_count": 49,
   "metadata": {},
   "outputs": [
    {
     "data": {
      "text/plain": [
       "True"
      ]
     },
     "execution_count": 49,
     "metadata": {},
     "output_type": "execute_result"
    }
   ],
   "source": [
    "cur.close()"
   ]
  },
  {
   "cell_type": "code",
   "execution_count": 50,
   "metadata": {},
   "outputs": [],
   "source": [
    "conn.close()"
   ]
  },
  {
   "cell_type": "code",
   "execution_count": 51,
   "metadata": {},
   "outputs": [
    {
     "data": {
      "text/plain": [
       "False"
      ]
     },
     "execution_count": 51,
     "metadata": {},
     "output_type": "execute_result"
    }
   ],
   "source": [
    "conn.is_connected()"
   ]
  }
 ],
 "metadata": {
  "kernelspec": {
   "display_name": "Python 3",
   "language": "python",
   "name": "python3"
  },
  "language_info": {
   "codemirror_mode": {
    "name": "ipython",
    "version": 3
   },
   "file_extension": ".py",
   "mimetype": "text/x-python",
   "name": "python",
   "nbconvert_exporter": "python",
   "pygments_lexer": "ipython3",
   "version": "3.10.3"
  },
  "orig_nbformat": 4
 },
 "nbformat": 4,
 "nbformat_minor": 2
}
